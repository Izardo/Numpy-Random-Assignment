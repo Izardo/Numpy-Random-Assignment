{
 "cells": [
  {
   "cell_type": "markdown",
   "metadata": {},
   "source": [
    "<center><img src=\"Images/dice.png\" alt=\"dice\" style=\"align:center; width:200px\"></center>\n",
    "\n",
    "# The Numpy Random Package\n",
    "\n",
    "[Official documentation](https://numpy.org/doc/stable/reference/random/index.html)\n",
    "\n",
    "***"
   ]
  },
  {
   "cell_type": "markdown",
   "metadata": {},
   "source": [
    "<br>\n",
    "\n",
    "## Table of Contents\n",
    "\n",
    "#### [1. Introduction](#Intro)\n",
    "\n",
    "#### [2. Simple random data](#Simple)\n",
    "&nbsp;&nbsp;&nbsp;&nbsp;[- Integers](#Integers)<br>\n",
    "&nbsp;&nbsp;&nbsp;&nbsp;[- Floats](#Floats)<br>\n",
    "&nbsp;&nbsp;&nbsp;&nbsp;[- Choice](#Choice)<br>\n",
    "&nbsp;&nbsp;&nbsp;&nbsp;[- Bytes](#Bytes)\n",
    "\n",
    "#### [3. Permutations](#Perm)\n",
    "&nbsp;&nbsp;&nbsp;&nbsp;[- Shuffle](#Shuffle)<br>\n",
    "&nbsp;&nbsp;&nbsp;&nbsp;[- Permutation](#Permutations)<br>\n",
    "&nbsp;&nbsp;&nbsp;&nbsp;[- Permuted](#Permuted)\n",
    "\n",
    "#### [4. Distributions](#Distr)\n",
    "&nbsp;&nbsp;&nbsp;&nbsp;[- Normal](#Normal)<br>\n",
    "&nbsp;&nbsp;&nbsp;&nbsp;[- Uniform](#Uniform)<br>\n",
    "&nbsp;&nbsp;&nbsp;&nbsp;[- Binomial](#Binomial)<br>\n",
    "&nbsp;&nbsp;&nbsp;&nbsp;[- Permutations](#Permutations)<br>\n",
    "&nbsp;&nbsp;&nbsp;&nbsp;[- Permutations](#Permutations)<br>\n"
   ]
  },
  {
   "cell_type": "markdown",
   "metadata": {},
   "source": [
    "<br>\n",
    "<a id=\"Intro\"></a>\n",
    "\n",
    "# <center>1. Introduction </center>\n",
    "***\n",
    "\n",
    "Random number generation has many applications in the real world such as gambling, statistics, computer simulation, cryptography and any other area that produces an unpredicatable outcome. Applications that require maximum unpredictability such as security implementations, generally use hardware generators(HRNG) that generate actual random numbers. Also known as True Random Number Generators (TRNG), such a device generates random numbers via a physical process, such as radioactive decay or thermal noise in a semiconductor. Both instrinsically random processes as per quantum theory.[1] However, for applications that do not rely on extremely unpredictable results, a process known as pseudorandom number generation is used. It is called psuedorandom \n",
    "\n",
    "Numpy's random package produces pseudorandom numbers by combining a BitGenerator, which produces a sequence of random bits (typically 32 or 64 bits) and a Generator, that converts the sequence into a sequence of numbers. The Generator conforms to a particular probability distribution ie., uniform, Normal or Binomial. [2] Five such packages will be discussed in the \"Distributions\" section.\n",
    "\n",
    "<a id=\"RS-v-Gen\"></a>\n",
    "\n",
    "#### Random State vs Generator\n",
    "\n",
    "Generator replaces the legacy version Random State, since being updated in version 1.17.0. Random State legacy version is still be used however, it is limited to a single bitGenerator. Generator has multiple bitGenerators - meaning many distinct probability distributions are available for use. A further benefit of Generator is that by default it utilises bits that are produced by PCG-64, a 28-bit execution of O’Neill’s permutation congruential generator, which provides great statistical algorithms for generating random numbers that are difficult to predict.[3]\n",
    "\n",
    "For the random generator documentation click here: [Random Generator Documentation](https://numpy.org/doc/stable/reference/random/generator.html)\n",
    "### "
   ]
  },
  {
   "cell_type": "markdown",
   "metadata": {},
   "source": [
    "### Set up\n",
    "***"
   ]
  },
  {
   "cell_type": "code",
   "execution_count": 1,
   "metadata": {},
   "outputs": [],
   "source": [
    "# Numerical arrays.\n",
    "import numpy as np\n",
    "\n",
    "# Plotting data.\n",
    "import matplotlib.pyplot as plt\n",
    "\n",
    "# Nice plot style. \n",
    "import seaborn as sns\n",
    "\n",
    "# Set default plot style.\n",
    "plt.style.use('fivethirtyeight')\n",
    "\n",
    "# Set default figure size.\n",
    "plt.rcParams['figure.figsize'] = [10, 6]\n",
    "\n",
    "# Renders plots nicely in notebook.\n",
    "%matplotlib inline"
   ]
  },
  {
   "cell_type": "markdown",
   "metadata": {},
   "source": [
    "<br>\n",
    "\n",
    "### Construct a Generator\n",
    "\n",
    "***"
   ]
  },
  {
   "cell_type": "markdown",
   "metadata": {},
   "source": [
    "\"The seed is given an integer value to ensure that the results of pseudo-random generation are reproducible. By re-using a seed value, the same sequence should be reproducible from run to run as long as multiple threads are not running. Reproducibility is a very important concept that ensures that anyone who re-runs the code gets the exact same outputs.\"[4] \n",
    "\n",
    "Seed will be discussed in more detail in section 5.\n",
    "\n",
    "#### The variable `rng` will be used in place of `np.random.generator` in code examples for simplification thorughout this notebook."
   ]
  },
  {
   "cell_type": "code",
   "execution_count": 2,
   "metadata": {},
   "outputs": [],
   "source": [
    "# Create a new generator with bitGenerator PCG64\n",
    "rng = np.random.default_rng(1) # Add seed info later!!!"
   ]
  },
  {
   "cell_type": "markdown",
   "metadata": {},
   "source": [
    "<br>\n",
    "\n",
    "### References:\n",
    "***\n",
    "\n",
    "[1] RANDy - A True-Random Generator Based On Radioactive, Decay, Markus Rohe, Fortgeschrittenenpraktikum\n",
    "Advisor: Ammar Alkassar\n",
    "Security and Cryptography Research Group\n",
    "Saarland University\n",
    "SS 2003 https://citeseerx.ist.psu.edu/viewdoc/download?doi=10.1.1.110.9725&rep=rep1&type=pdf\n",
    "\n",
    "[2] https://numpy.org/doc/stable/reference/random/index.html accesed 2.11.21\n",
    "\n",
    "[3] https://www.pcg-random.org/index.html accessed 2.11.21\n",
    "\n",
    "[4] https://medium.com/geekculture/the-story-behind-random-seed-42-in-machine-learning-b838c4ac290a accessed 4.11.21\n",
    "\n",
    "<br>"
   ]
  },
  {
   "cell_type": "markdown",
   "metadata": {},
   "source": [
    "<br>\n",
    "\n",
    "<a id=\"#Simple\"></a>\n",
    "\n",
    "\n",
    "# <center>2. Simple random data</center>\n",
    "\n",
    "#### <center><i>This section introduces numpy's built-in functions for producing random numbers.</i></center>"
   ]
  },
  {
   "cell_type": "markdown",
   "metadata": {},
   "source": [
    "<br>\n",
    "<a id=\"Integers\"></a>\n",
    "\n",
    "# `integers()`\n",
    "\n",
    "[Documentation](https://numpy.org/doc/stable/reference/random/generated/numpy.random.Generator.integers.html#numpy.random.Generator.integers)\n",
    "\n",
    "Generates random integer values. \n",
    "***"
   ]
  },
  {
   "cell_type": "markdown",
   "metadata": {},
   "source": [
    "&nbsp;&nbsp;&nbsp;&nbsp;&nbsp;&nbsp;&nbsp;&nbsp;&nbsp;&nbsp;&nbsp;&nbsp;`random.Generator.integers(low, high=None, size=None, dtype=np.int64, endpoint=False)`"
   ]
  },
  {
   "cell_type": "markdown",
   "metadata": {},
   "source": [
    "The range is specified using the low and high parameters, the low value is inclusive while the high value is exclusive. The returned integers are from the discrete uniform distribution meaning each n value has equal probability of being returned."
   ]
  },
  {
   "cell_type": "markdown",
   "metadata": {},
   "source": [
    "<center><img src=\"Images/discrete_uniform.png\" alt=\"gaussian\" style=\"align:center; width:500px\"></center>\n",
    "\n",
    "<br>"
   ]
  },
  {
   "cell_type": "markdown",
   "metadata": {},
   "source": [
    "[1]"
   ]
  },
  {
   "cell_type": "code",
   "execution_count": 3,
   "metadata": {},
   "outputs": [
    {
     "data": {
      "text/plain": [
       "array([4, 5, 7, 9, 0, 1, 8, 9, 2, 3, 8, 4, 2, 8, 2, 4, 6, 5, 0, 0, 8, 7,\n",
       "       8, 5, 8, 3, 4, 7, 1, 3, 1, 4, 9, 1, 3, 4, 9, 2, 5, 2, 0, 7, 0, 2,\n",
       "       4, 4, 1, 9, 7, 9, 0, 7, 2, 5, 9, 2, 7, 1, 3, 9, 4, 5, 2, 1, 4, 6,\n",
       "       4, 7, 3, 6, 7, 9, 4, 0, 7, 5, 8, 4, 3, 0, 4, 6, 7, 8, 2, 5, 8, 2,\n",
       "       3, 8, 5, 5, 6, 5, 9, 7, 0, 1, 5, 8])"
      ]
     },
     "execution_count": 3,
     "metadata": {},
     "output_type": "execute_result"
    }
   ],
   "source": [
    "# Random integer array.\n",
    "rng.integers(low=0, high=10, size=100)"
   ]
  },
  {
   "cell_type": "code",
   "execution_count": 4,
   "metadata": {},
   "outputs": [
    {
     "data": {
      "text/plain": [
       "array([0])"
      ]
     },
     "execution_count": 4,
     "metadata": {},
     "output_type": "execute_result"
    }
   ],
   "source": [
    "# A single random integer. \n",
    "rng.integers(0, 10, 1)"
   ]
  },
  {
   "cell_type": "markdown",
   "metadata": {},
   "source": [
    "<br>\n",
    "\n",
    "### Specifying endpoint\n",
    "***\n",
    "\n",
    "With endpoint set to True the range of numbers is inclusive of high and low values.\n"
   ]
  },
  {
   "cell_type": "code",
   "execution_count": 5,
   "metadata": {},
   "outputs": [
    {
     "data": {
      "text/plain": [
       "array([7, 8, 8, 9, 2, 6, 8, 3, 2, 5, 0, 2, 9, 7, 9, 9, 9, 3, 5, 6])"
      ]
     },
     "execution_count": 5,
     "metadata": {},
     "output_type": "execute_result"
    }
   ],
   "source": [
    "# endpoint=True\n",
    "ran_int = rng.integers(low=0, high=10, size=20, endpoint=True)\n",
    "ran_int"
   ]
  },
  {
   "cell_type": "markdown",
   "metadata": {},
   "source": [
    "<br>\n",
    "\n",
    "### Default dytype\n",
    "***\n",
    "\n",
    "64 bits for high precision accuracy. However, 32 bits is sufficient for most functions. "
   ]
  },
  {
   "cell_type": "code",
   "execution_count": 6,
   "metadata": {},
   "outputs": [
    {
     "data": {
      "text/plain": [
       "numpy.int64"
      ]
     },
     "execution_count": 6,
     "metadata": {},
     "output_type": "execute_result"
    }
   ],
   "source": [
    "# Check the type of data the function produces.\n",
    "type(ran_int[0])"
   ]
  },
  {
   "cell_type": "markdown",
   "metadata": {},
   "source": [
    "<br>\n",
    "\n",
    "### Example: Roll a dice\n",
    "***\n",
    "\n",
    "\n",
    "<img src=\"Images/dice.jpeg\" alt=\"gaussian\" style=\"align:center; width:200px\">\n",
    "\n",
    "<br>"
   ]
  },
  {
   "cell_type": "code",
   "execution_count": 175,
   "metadata": {},
   "outputs": [],
   "source": [
    "# Roll the dice 1000 times. \n",
    "rolls = rng.integers(1, 7, size=1000)"
   ]
  },
  {
   "cell_type": "code",
   "execution_count": 176,
   "metadata": {},
   "outputs": [
    {
     "data": {
      "text/plain": [
       "<AxesSubplot:ylabel='Count'>"
      ]
     },
     "execution_count": 176,
     "metadata": {},
     "output_type": "execute_result"
    },
    {
     "data": {
      "image/png": "[encoded data removed]",
      "text/plain": [
       "<Figure size 432x432 with 1 Axes>"
      ]
     },
     "metadata": {
      "needs_background": "light"
     },
     "output_type": "display_data"
    }
   ],
   "source": [
    "# Plot results.\n",
    "sns.histplot(rolls)"
   ]
  },
  {
   "cell_type": "markdown",
   "metadata": {},
   "source": [
    "As can be seen with the plot above, each side appeared a similar number of times after 1000 rolls (between 160 & 180 times each). This is typical of discrete uniform distribution, where the probability of occurances of events are equally possible within a finite range of values."
   ]
  },
  {
   "cell_type": "markdown",
   "metadata": {},
   "source": [
    "<br>\n",
    "\n",
    "<a id=\"Floats\"></a>\n",
    "\n",
    "# `random()`\n",
    "\n",
    "[Documentation](https://numpy.org/doc/stable/reference/random/generated/numpy.random.Generator.random.html#numpy.random.Generator.random)\n",
    "\n",
    "Generates random float values.\n",
    "\n",
    "***"
   ]
  },
  {
   "cell_type": "markdown",
   "metadata": {},
   "source": [
    "&nbsp;&nbsp;&nbsp;&nbsp;&nbsp;&nbsp;&nbsp;&nbsp;&nbsp;`random.Generator.random(size=None, dtype=np.float64, out=None)`\n",
    "\n",
    "<br>\n"
   ]
  },
  {
   "cell_type": "code",
   "execution_count": 177,
   "metadata": {},
   "outputs": [
    {
     "data": {
      "text/plain": [
       "0.9106911179254126"
      ]
     },
     "execution_count": 177,
     "metadata": {},
     "output_type": "execute_result"
    }
   ],
   "source": [
    "# Generate a single floating point number with parameter size parameter set to None\n",
    "rng.random(size=None)"
   ]
  },
  {
   "cell_type": "code",
   "execution_count": 178,
   "metadata": {},
   "outputs": [],
   "source": [
    "# Generate an array of floats each using 32 bits of memory. 64 bits is default and used for high precisison. \n",
    "a = rng.random(size=100000, dtype=np.float32) # Default range is 0 - 0.9999. "
   ]
  },
  {
   "cell_type": "code",
   "execution_count": 179,
   "metadata": {},
   "outputs": [
    {
     "data": {
      "text/plain": [
       "array([[0.55493356, 0.05549995, 0.89076003, 0.50978516, 0.11032966],\n",
       "       [0.61797872, 0.35439453, 0.39244798, 0.57123155, 0.71410424],\n",
       "       [0.23305418, 0.25194963, 0.41245986, 0.10606929, 0.67972563],\n",
       "       [0.35188412, 0.39099947, 0.0232037 , 0.96081921, 0.71961731],\n",
       "       [0.54234058, 0.22648564, 0.46266514, 0.05927467, 0.53128565]])"
      ]
     },
     "execution_count": 179,
     "metadata": {},
     "output_type": "execute_result"
    }
   ],
   "source": [
    "# Generate multiple arrays.\n",
    "rng.random(size=(5, 5))"
   ]
  },
  {
   "cell_type": "markdown",
   "metadata": {},
   "source": [
    "<br>\n",
    "<a id=\"Choice\"></a>\n",
    "\n",
    "# `choice()`\n",
    "\n",
    "[Documentation](https://numpy.org/doc/stable/reference/random/generated/numpy.random.Generator.choice.html#numpy.random.Generator.choice)\n",
    "\n",
    "Generates a random sample from an array. \n",
    "\n",
    "***"
   ]
  },
  {
   "cell_type": "markdown",
   "metadata": {},
   "source": [
    "&nbsp;&nbsp;&nbsp;&nbsp;&nbsp;&nbsp;&nbsp;&nbsp;`random.Generator.choice(a, size=None, replace=True, p=None, axis=0, shuffle=True)`<br>"
   ]
  },
  {
   "cell_type": "markdown",
   "metadata": {},
   "source": [
    "<br>\n",
    "\n",
    "### Produce an array of strings\n",
    "***\n",
    "\n",
    "The default for values returned is discrete uniform, similar to the integer function above, each value has the same probability of being returned. The example below illustrates this ie., a single value being chosen multiple times. \n",
    "\n",
    "Unlike the integer function, however, this setting can be changed as we will see with the `replace` parameter explanation at the end of this section."
   ]
  },
  {
   "cell_type": "code",
   "execution_count": 180,
   "metadata": {},
   "outputs": [
    {
     "data": {
      "text/plain": [
       "array(['yellow', 'green', 'green', 'green', 'yellow', 'green', 'green',\n",
       "       'yellow', 'blue', 'red'], dtype='<U6')"
      ]
     },
     "execution_count": 180,
     "metadata": {},
     "output_type": "execute_result"
    }
   ],
   "source": [
    "# Choose a colour at random 10 times and plot results.\n",
    "x = rng.choice([\"yellow\", \"red\", \"blue\", \"green\"], size=10)\n",
    "x"
   ]
  },
  {
   "cell_type": "markdown",
   "metadata": {},
   "source": [
    "<br>\n",
    "\n",
    "### Plot the choices\n",
    "***\n",
    "\n",
    "A visual representation of the selections made by the choice function. "
   ]
  },
  {
   "cell_type": "code",
   "execution_count": 181,
   "metadata": {},
   "outputs": [
    {
     "data": {
      "text/plain": [
       "<AxesSubplot:title={'center':'No. of times colours selected'}, ylabel='Count'>"
      ]
     },
     "execution_count": 181,
     "metadata": {},
     "output_type": "execute_result"
    },
    {
     "data": {
      "image/png": "[encoded data removed]",
      "text/plain": [
       "<Figure size 432x432 with 1 Axes>"
      ]
     },
     "metadata": {
      "needs_background": "light"
     },
     "output_type": "display_data"
    }
   ],
   "source": [
    "# Histogram plot of x.\n",
    "plt.title(\"No. of times colours selected\")\n",
    "sns.histplot(x, bins=8, edgecolor='white')"
   ]
  },
  {
   "cell_type": "markdown",
   "metadata": {},
   "source": [
    "<br>\n",
    "\n",
    "### The `replace` parameter\n",
    "***\n",
    "\n",
    "\n",
    "`replace=True` is the default setting and means that for each random selection all of the original values are included in the array. This is the default setting and can be observed in the example above. \n",
    "\n",
    "`replace=False` after a selection is made, the selected value will not be placed back into the array.\n"
   ]
  },
  {
   "cell_type": "code",
   "execution_count": 182,
   "metadata": {},
   "outputs": [
    {
     "data": {
      "text/plain": [
       "array(['white', 'green', 'orange', 'purple', 'blue', 'black', 'red',\n",
       "       'yellow'], dtype='<U6')"
      ]
     },
     "execution_count": 182,
     "metadata": {},
     "output_type": "execute_result"
    }
   ],
   "source": [
    "# Replace=False. \n",
    "y = rng.choice([\"yellow\", \"red\", \"blue\", \"green\", \"purple\", \"black\", \"orange\", \"white\"], size=[8], replace=False)\n",
    "y"
   ]
  },
  {
   "cell_type": "markdown",
   "metadata": {},
   "source": [
    "<br>\n",
    "\n",
    "### Plot the choices\n",
    "***\n",
    "\n",
    "As can be seen below, each value can only be chosen once as it is removed from the array after its selection. "
   ]
  },
  {
   "cell_type": "code",
   "execution_count": 183,
   "metadata": {},
   "outputs": [
    {
     "data": {
      "text/plain": [
       "<AxesSubplot:title={'center':'No. of times colours selected'}, ylabel='Count'>"
      ]
     },
     "execution_count": 183,
     "metadata": {},
     "output_type": "execute_result"
    },
    {
     "data": {
      "image/png": "[encoded data removed]",
      "text/plain": [
       "<Figure size 432x432 with 1 Axes>"
      ]
     },
     "metadata": {
      "needs_background": "light"
     },
     "output_type": "display_data"
    }
   ],
   "source": [
    "# Increase plot size. \n",
    "plt.rcParams['figure.figsize'] = [6, 6]\n",
    "\n",
    "# Plot y on histogram. \n",
    "plt.title(\"No. of times colours selected\")\n",
    "sns.histplot(y, bins=8, edgecolor=\"black\")"
   ]
  },
  {
   "cell_type": "code",
   "execution_count": 184,
   "metadata": {},
   "outputs": [
    {
     "data": {
      "text/plain": [
       "array([2])"
      ]
     },
     "execution_count": 184,
     "metadata": {},
     "output_type": "execute_result"
    }
   ],
   "source": [
    "# Randomly selecting a single item from array.\n",
    "rng.choice([1, 2, 3, 4, 5], size=1)"
   ]
  },
  {
   "cell_type": "markdown",
   "metadata": {},
   "source": [
    "## To do: Discuss the `p` parameter here and how probability can be specified. "
   ]
  },
  {
   "cell_type": "markdown",
   "metadata": {},
   "source": [
    "<br>\n",
    "\n",
    "#### Difference between integers and choice functions:\n",
    "***\n",
    "\n",
    "While the random.Generator.integers and random.Generator.choice both choose select values (integers from a range, and choice from a given array), the significant differences bring that choice allows:\n",
    "\n",
    "- the specification as to whether a replacement value placed in the array or not.\n",
    "- the specificaton of probability of an item being selected.(uniform distribution is default) \n",
    "\n",
    "https://stackoverflow.com/questions/55772716/how-is-numpy-choice-different-from-numpy-randint"
   ]
  },
  {
   "cell_type": "markdown",
   "metadata": {},
   "source": [
    "<br>\n",
    "<a id=\"Bytes\"></a>\n",
    "\n",
    "## `bytes()`\n",
    "\n",
    "[Documentation](https://numpy.org/doc/stable/reference/random/generated/numpy.random.Generator.bytes.html#numpy.random.Generator.bytes)\n",
    "\n",
    "Generates random bytes. \n",
    "\n",
    "***"
   ]
  },
  {
   "cell_type": "markdown",
   "metadata": {},
   "source": [
    "&nbsp;&nbsp;&nbsp;&nbsp;&nbsp;&nbsp;&nbsp;&nbsp;`random.Generator.bytes(length)`\n",
    "\n",
    "<br>\n"
   ]
  },
  {
   "cell_type": "markdown",
   "metadata": {},
   "source": [
    "This function simply returns a string of random bytes with the size of the return specified by the length parameter."
   ]
  },
  {
   "cell_type": "code",
   "execution_count": 185,
   "metadata": {},
   "outputs": [
    {
     "data": {
      "text/plain": [
       "b'Y6\\x12\\x1f\\xd9\\x17r\\x18\\xf0\\x17'"
      ]
     },
     "execution_count": 185,
     "metadata": {},
     "output_type": "execute_result"
    }
   ],
   "source": [
    "# Generate random bytes.\n",
    "x = rng.bytes(10)\n",
    "x"
   ]
  },
  {
   "cell_type": "code",
   "execution_count": 186,
   "metadata": {},
   "outputs": [
    {
     "data": {
      "text/plain": [
       "bytes"
      ]
     },
     "execution_count": 186,
     "metadata": {},
     "output_type": "execute_result"
    }
   ],
   "source": [
    "# Check data type of x.\n",
    "type(x)"
   ]
  },
  {
   "cell_type": "markdown",
   "metadata": {},
   "source": [
    "<br>\n",
    "\n",
    "### References:\n",
    "***\n",
    "\n",
    "[1] https://en.wikipedia.org/wiki/Discrete_uniform_distribution\n",
    "\n",
    "***"
   ]
  },
  {
   "cell_type": "markdown",
   "metadata": {},
   "source": [
    "<br>\n",
    "\n",
    "<a id=\"Permutations\"></a>\n",
    "\n",
    "# <center>3. Permutations </center>\n",
    "\n",
    "#### <center><i>A permutation is the number of ways a sequence can be arranged where ordering is significant. It can be compared to combinations, on the contrary, where ordering is insignificant.</i></center>\n"
   ]
  },
  {
   "cell_type": "markdown",
   "metadata": {},
   "source": [
    "<br>\n",
    "<a id=\"Shuffle\"></a>\n",
    "\n",
    "\n",
    "# `shuffle()`\n",
    "[Documentation](https://numpy.org/doc/stable/reference/random/generated/numpy.random.Generator.shuffle.html#numpy.random.Generator.shuffle)\n",
    "\n",
    "Randomly shuffles items of a given array in-place.\n",
    "\n",
    "***"
   ]
  },
  {
   "cell_type": "markdown",
   "metadata": {},
   "source": [
    "&nbsp;&nbsp;&nbsp;&nbsp;&nbsp;&nbsp;&nbsp;&nbsp;&nbsp;`random.Generator.shuffle(x, axis=0)`"
   ]
  },
  {
   "cell_type": "markdown",
   "metadata": {},
   "source": [
    "Shuffling is uselful in applications where it is important to avoid bias. Machine learning often uses shuffling in its operations. "
   ]
  },
  {
   "cell_type": "markdown",
   "metadata": {},
   "source": [
    "<br>\n",
    "\n",
    "### Shuffle 1-dimensional array\n",
    "***"
   ]
  },
  {
   "cell_type": "code",
   "execution_count": 187,
   "metadata": {},
   "outputs": [
    {
     "data": {
      "text/plain": [
       "array([ 0,  1,  2,  3,  4,  5,  6,  7,  8,  9, 10])"
      ]
     },
     "execution_count": 187,
     "metadata": {},
     "output_type": "execute_result"
    }
   ],
   "source": [
    "# Create a numpy array.\n",
    "arr = np.arange(11)\n",
    "arr"
   ]
  },
  {
   "cell_type": "code",
   "execution_count": 188,
   "metadata": {},
   "outputs": [
    {
     "data": {
      "text/plain": [
       "array([ 6,  4,  8,  0,  7,  1, 10,  3,  2,  9,  5])"
      ]
     },
     "execution_count": 188,
     "metadata": {},
     "output_type": "execute_result"
    }
   ],
   "source": [
    "# Shuffle the array. \n",
    "rng.shuffle(arr)\n",
    "arr"
   ]
  },
  {
   "cell_type": "markdown",
   "metadata": {},
   "source": [
    "<br>\n",
    "\n",
    "### Shuffle 2-dimensional array.\n",
    "***"
   ]
  },
  {
   "cell_type": "code",
   "execution_count": 189,
   "metadata": {},
   "outputs": [
    {
     "data": {
      "text/plain": [
       "array([[ 4,  5,  6,  7],\n",
       "       [ 8,  9, 10, 11],\n",
       "       [12, 13, 14, 15],\n",
       "       [ 0,  1,  2,  3]])"
      ]
     },
     "execution_count": 189,
     "metadata": {},
     "output_type": "execute_result"
    }
   ],
   "source": [
    "# Generate 4 numpy arrays.\n",
    "arr = np.arange(16).reshape((4, 4))\n",
    "\n",
    "# Shuffle arrays. (Default axis = 0 & rearranges the rows)\n",
    "rng.shuffle(arr)\n",
    "arr"
   ]
  },
  {
   "cell_type": "markdown",
   "metadata": {},
   "source": [
    "<br>\n",
    "\n",
    "### `axis` parameter\n",
    "***"
   ]
  },
  {
   "cell_type": "markdown",
   "metadata": {},
   "source": [
    "The axis default is 0. The following example illustrates the outcome when the axis is set to 1. "
   ]
  },
  {
   "cell_type": "code",
   "execution_count": 84,
   "metadata": {},
   "outputs": [
    {
     "data": {
      "text/plain": [
       "array([[ 1,  4,  3,  5,  7,  0,  2,  6],\n",
       "       [ 9, 12, 11, 13, 15,  8, 10, 14],\n",
       "       [17, 20, 19, 21, 23, 16, 18, 22],\n",
       "       [25, 28, 27, 29, 31, 24, 26, 30],\n",
       "       [33, 36, 35, 37, 39, 32, 34, 38],\n",
       "       [41, 44, 43, 45, 47, 40, 42, 46],\n",
       "       [49, 52, 51, 53, 55, 48, 50, 54],\n",
       "       [57, 60, 59, 61, 63, 56, 58, 62]])"
      ]
     },
     "execution_count": 84,
     "metadata": {},
     "output_type": "execute_result"
    }
   ],
   "source": [
    "# Generate multiple arrays.\n",
    "arr = np.arange(64).reshape(8, 8)\n",
    "\n",
    "# Shuffle with parameter axis=1(rearranges the columns). \n",
    "rng.shuffle(arr, axis=1)\n",
    "arr"
   ]
  },
  {
   "cell_type": "code",
   "execution_count": 85,
   "metadata": {},
   "outputs": [
    {
     "data": {
      "text/plain": [
       "array([[[1, 0],\n",
       "        [3, 2]],\n",
       "\n",
       "       [[5, 4],\n",
       "        [7, 6]]])"
      ]
     },
     "execution_count": 85,
     "metadata": {},
     "output_type": "execute_result"
    }
   ],
   "source": [
    "# Shuffle 3-dimensional array. \n",
    "arr = np.arange(8).reshape(2, 2, 2)\n",
    "rng.shuffle(arr, axis=2)\n",
    "arr"
   ]
  },
  {
   "cell_type": "markdown",
   "metadata": {},
   "source": [
    "<br>\n",
    "<a id=\"Permutations\"></a>\n",
    "\n",
    "# `permutation()` \n",
    "\n",
    "[Documentation](https://numpy.org/doc/stable/reference/random/generated/numpy.random.Generator.permutation.html#numpy.random.Generator.permutation)<br>\n",
    "\n",
    "\n",
    "Randomly permutates items of a array, leaving the original array unchanged and storing the permutation in a new variable. \n",
    "\n",
    "***\n"
   ]
  },
  {
   "cell_type": "markdown",
   "metadata": {},
   "source": [
    "&nbsp;&nbsp;&nbsp;&nbsp;&nbsp;&nbsp;&nbsp;&nbsp;&nbsp;&nbsp;`random.Generator.permutation(x, axis=0)`"
   ]
  },
  {
   "cell_type": "markdown",
   "metadata": {},
   "source": [
    "<br>\n",
    "\n",
    "### Pass integer as parameter\n",
    "***"
   ]
  },
  {
   "cell_type": "markdown",
   "metadata": {},
   "source": [
    "When an integer is passed through the function as x, it is treated as arange(x). "
   ]
  },
  {
   "cell_type": "code",
   "execution_count": 86,
   "metadata": {},
   "outputs": [
    {
     "data": {
      "text/plain": [
       "array([33, 10, 49,  3,  4, 35, 19, 54, 12, 24,  5, 36, 14, 31, 48, 56, 15,\n",
       "       25, 32, 20, 40,  7, 17,  0, 42, 52, 26, 28, 41, 58, 13, 23, 53, 43,\n",
       "        1, 39, 46, 38, 47, 11, 57, 37, 29,  8, 44, 45, 34, 50, 27, 59, 16,\n",
       "       55,  2,  6, 22, 18, 30, 51, 21,  9])"
      ]
     },
     "execution_count": 86,
     "metadata": {},
     "output_type": "execute_result"
    }
   ],
   "source": [
    "# Permutates range from 0(inclusive) - 60(exclusive).\n",
    "rng.permutation(60)"
   ]
  },
  {
   "cell_type": "markdown",
   "metadata": {},
   "source": [
    "<br>\n",
    "\n",
    "### Pass array as parameter\n",
    "***"
   ]
  },
  {
   "cell_type": "code",
   "execution_count": 87,
   "metadata": {},
   "outputs": [
    {
     "data": {
      "text/plain": [
       "array([51, 15, 16, 35, 33, 24, 10,  1, 40, 18,  4, 39,  9, 26, 29, 46, 41,\n",
       "       55, 21, 34, 31, 56, 28, 22, 12,  3, 52, 59, 48,  6, 30,  0, 25, 19,\n",
       "       27, 47, 58, 53, 43,  7,  5, 17, 32, 14, 20, 36, 45, 49, 42, 11, 50,\n",
       "       37, 44, 13, 23, 54,  2, 38, 57,  8])"
      ]
     },
     "execution_count": 87,
     "metadata": {},
     "output_type": "execute_result"
    }
   ],
   "source": [
    "# Generate numpy array. \n",
    "arr = np.arange(60)\n",
    "\n",
    "# Makes a copy of array and permutates it. \n",
    "rng.permutation(arr)"
   ]
  },
  {
   "cell_type": "markdown",
   "metadata": {},
   "source": [
    "<br>\n",
    "\n",
    "### Axis parameter\n",
    "***"
   ]
  },
  {
   "cell_type": "markdown",
   "metadata": {},
   "source": [
    "Like the shuffle function, the permutate function can be set to permutate along a given axis. The default is 0."
   ]
  },
  {
   "cell_type": "code",
   "execution_count": 88,
   "metadata": {},
   "outputs": [
    {
     "data": {
      "text/plain": [
       "array([[ 5,  0,  1,  4,  3,  2],\n",
       "       [11,  6,  7, 10,  9,  8],\n",
       "       [17, 12, 13, 16, 15, 14],\n",
       "       [23, 18, 19, 22, 21, 20],\n",
       "       [29, 24, 25, 28, 27, 26],\n",
       "       [35, 30, 31, 34, 33, 32],\n",
       "       [41, 36, 37, 40, 39, 38],\n",
       "       [47, 42, 43, 46, 45, 44],\n",
       "       [53, 48, 49, 52, 51, 50],\n",
       "       [59, 54, 55, 58, 57, 56]])"
      ]
     },
     "execution_count": 88,
     "metadata": {},
     "output_type": "execute_result"
    }
   ],
   "source": [
    "# Generate 2-dimensional array.\n",
    "arr = np.arange(60).reshape(10, 6)\n",
    "arr\n",
    "\n",
    "# Axis=1 rearranges the columns. \n",
    "rng.permutation(arr, axis=1) # Note bulk permutation, slices are shuffled together, not independently. \n"
   ]
  },
  {
   "cell_type": "markdown",
   "metadata": {},
   "source": [
    "<br>\n",
    "<a id=\"Permuted\"></a>\n",
    "\n",
    "# `permuted()`\n",
    "\n",
    "[Documentation](https://numpy.org/doc/stable/reference/random/generated/numpy.random.Generator.permuted.html#numpy.random.Generator.permuted)\n",
    "\n",
    "Randomly permutates an array along a given axis.\n",
    "***"
   ]
  },
  {
   "cell_type": "markdown",
   "metadata": {},
   "source": [
    "&nbsp;&nbsp;&nbsp;&nbsp;&nbsp;&nbsp;&nbsp;&nbsp;&nbsp;&nbsp;`random.Generator.permuted(x, axis=None, out=None)`"
   ]
  },
  {
   "cell_type": "markdown",
   "metadata": {},
   "source": [
    "<br>\n",
    "\n",
    "The shuffle and permuted functions may seems as though they fulfil the same function, however, the difference between the two is that with the permuted function the slices of the array are shuffled independently of each other."
   ]
  },
  {
   "cell_type": "code",
   "execution_count": 89,
   "metadata": {},
   "outputs": [
    {
     "data": {
      "text/plain": [
       "array([4, 3, 2, 5, 1])"
      ]
     },
     "execution_count": 89,
     "metadata": {},
     "output_type": "execute_result"
    }
   ],
   "source": [
    "# Produce permuted sample from array.\n",
    "rng.permuted([1, 2, 3, 4, 5])"
   ]
  },
  {
   "cell_type": "code",
   "execution_count": 90,
   "metadata": {},
   "outputs": [
    {
     "data": {
      "text/plain": [
       "array([[ 0,  1,  2,  3,  4],\n",
       "       [ 5,  6,  7,  8,  9],\n",
       "       [10, 11, 12, 13, 14],\n",
       "       [15, 16, 17, 18, 19],\n",
       "       [20, 21, 22, 23, 24],\n",
       "       [25, 26, 27, 28, 29],\n",
       "       [30, 31, 32, 33, 34],\n",
       "       [35, 36, 37, 38, 39],\n",
       "       [40, 41, 42, 43, 44],\n",
       "       [45, 46, 47, 48, 49]])"
      ]
     },
     "execution_count": 90,
     "metadata": {},
     "output_type": "execute_result"
    }
   ],
   "source": [
    "# Generate multiple arrays.\n",
    "x = np.arange(50).reshape(10,5)\n",
    "x"
   ]
  },
  {
   "cell_type": "markdown",
   "metadata": {},
   "source": [
    "<br>\n",
    "\n",
    "### Slices are shuffled independently \n",
    "***\n",
    "\n",
    "Unlike the permutation function, the slices are shuffled independently meaning that values within a slice are also shuffled. "
   ]
  },
  {
   "cell_type": "code",
   "execution_count": 91,
   "metadata": {},
   "outputs": [
    {
     "data": {
      "text/plain": [
       "array([[ 1,  2,  0,  3,  4],\n",
       "       [ 6,  7,  9,  8,  5],\n",
       "       [13, 10, 14, 12, 11],\n",
       "       [15, 18, 17, 16, 19],\n",
       "       [20, 24, 22, 21, 23],\n",
       "       [28, 26, 29, 25, 27],\n",
       "       [30, 34, 31, 33, 32],\n",
       "       [39, 36, 37, 35, 38],\n",
       "       [43, 40, 42, 41, 44],\n",
       "       [49, 46, 47, 48, 45]])"
      ]
     },
     "execution_count": 91,
     "metadata": {},
     "output_type": "execute_result"
    }
   ],
   "source": [
    "# Permute array along axis 1. \n",
    "rng.permuted(x, axis=1, out=None)"
   ]
  },
  {
   "cell_type": "code",
   "execution_count": 92,
   "metadata": {},
   "outputs": [
    {
     "data": {
      "text/plain": [
       "array([[31, 25, 12, 47, 17],\n",
       "       [11, 28, 37, 43, 35],\n",
       "       [44, 29, 14, 27, 19],\n",
       "       [ 9, 26, 13, 45, 18],\n",
       "       [42, 15,  1,  6,  7],\n",
       "       [22, 23, 48, 46, 10],\n",
       "       [30, 38, 21,  8, 39],\n",
       "       [32, 34, 49,  2, 24],\n",
       "       [ 4, 40, 33,  0,  5],\n",
       "       [20, 36, 16, 41,  3]])"
      ]
     },
     "execution_count": 92,
     "metadata": {},
     "output_type": "execute_result"
    }
   ],
   "source": [
    "rng.permuted(x, axis=None, out=None)"
   ]
  },
  {
   "cell_type": "markdown",
   "metadata": {},
   "source": [
    "<br>\n",
    "\n",
    "### Differences between the shuffle, permutation & permuted functions\n",
    "***"
   ]
  },
  {
   "cell_type": "markdown",
   "metadata": {},
   "source": [
    "Regarding memory usage, the shuffle function uses in-place memory and the permutation function returns a copy of the array (out-of-place memory). With the permuted function, on the other-hand, whether the return be in-place or out-of-place can be specified with the `out` parameter.[1]\n",
    "\n",
    "Both the shuffle and permutation functions deals with slices of a given axis as if they are 1-dimensional arrays, while the purmuted function treats each slice independent of the other. I.e, Where axis=1 the columns will be shuffled. the permutation function will return the shuffled columns while keeping the same values in column whereas, the permuted function will also shuffle the items within the column. "
   ]
  },
  {
   "cell_type": "markdown",
   "metadata": {},
   "source": [
    "<br>\n",
    "\n",
    "#### References:\n",
    "\n",
    "[1] https://numpy.org/doc/stable/reference/random/generator.html\n"
   ]
  },
  {
   "cell_type": "markdown",
   "metadata": {},
   "source": [
    "<br>\n",
    "<a id=\"Distr\"></a>\n",
    "\n",
    "\n",
    "# <center>4. Distributions</center>\n",
    "***\n"
   ]
  },
  {
   "cell_type": "markdown",
   "metadata": {},
   "source": [
    "\n",
    "## Continuous Distributions\n",
    "\n",
    "### Normal, uniform\n",
    "***"
   ]
  },
  {
   "cell_type": "markdown",
   "metadata": {},
   "source": [
    "<br>\n",
    "\n",
    "## `normal()` \n",
    "\n",
    "[Documentation](https://numpy.org/doc/stable/reference/random/generated/numpy.random.Generator.normal.html#numpy.random.Generator.normal)\n",
    "\n",
    "Generate random samples from the Gaussian normal distribution.\n",
    "***\n"
   ]
  },
  {
   "cell_type": "markdown",
   "metadata": {},
   "source": [
    "&nbsp;&nbsp;&nbsp;&nbsp;&nbsp;&nbsp;&nbsp;&nbsp;&nbsp;`random.Generator.normal(loc=0.0, scale=1.0, size=None)`"
   ]
  },
  {
   "cell_type": "markdown",
   "metadata": {},
   "source": [
    "The probability distribution function of the normal distribution (or Gaussian distribution) is also known as the bell curve due to its distinctive bell-like shape. Normal distribution is a phenomenon that often found in nature and is used frequently in probability problems. It is a symmetrical representation of data which focuses on the mean and standard deviation, in which most of the values lie, while the remaining values taper off gradually. [1]\n",
    "\n",
    "<br>"
   ]
  },
  {
   "cell_type": "markdown",
   "metadata": {},
   "source": [
    "<center><img src=\"Images/gaussian.png\" alt=\"gaussian\" style=\"align:center; width:500px\"></center>\n",
    "\n",
    "<br>"
   ]
  },
  {
   "cell_type": "markdown",
   "metadata": {},
   "source": [
    "The image above depicts the normal distribution, note the bell curve characteristic of the Gaussian ot normal distribution. The line in the middle of the curve represents the mean, while each line to the right or left of the mean represents a standard deviation. \n",
    "\n",
    "Paraphrase this! \"Standard deviation is the measure of dispersion of a set of data from its mean. It measures the absolute variability of a distribution; the higher the dispersion or variability, the greater is the standard deviation and greater will be the magnitude of the deviation of the value from their mean.\"[https://economictimes.indiatimes.com/definition/standard-deviation]\n",
    "\n",
    "One standard deviation from the mean represents 68.27 percent of the data. \n",
    "\n",
    "95 percent of the data is within two standard deviations from the mean. [2]\n"
   ]
  },
  {
   "cell_type": "markdown",
   "metadata": {},
   "source": [
    "<br>\n",
    "\n",
    "#### Formula\n",
    "***"
   ]
  },
  {
   "cell_type": "markdown",
   "metadata": {},
   "source": [
    "<center><img src=\"Images/guassian_formula.png\" alt=\"Gaussian formula\"></center>\n",
    "\n",
    "<br>\n",
    "\n",
    "Reference this!"
   ]
  },
  {
   "cell_type": "markdown",
   "metadata": {},
   "source": [
    "#### Parameters\n",
    "***"
   ]
  },
  {
   "cell_type": "markdown",
   "metadata": {},
   "source": [
    "The `loc` parameter specifies the mean of the data, the default value is 0 if no value is given.\n",
    "\n",
    "The `scale` parameter specifies the standard deviation of the normal distribution. \n",
    "\n",
    "While the `size` parameter specifies how many data points will be generated. "
   ]
  },
  {
   "cell_type": "markdown",
   "metadata": {},
   "source": [
    "<br>\n",
    "\n",
    "#### Generate normal samples\n",
    "***"
   ]
  },
  {
   "cell_type": "code",
   "execution_count": 93,
   "metadata": {},
   "outputs": [
    {
     "data": {
      "text/plain": [
       "0.3758590652013267"
      ]
     },
     "execution_count": 93,
     "metadata": {},
     "output_type": "execute_result"
    }
   ],
   "source": [
    "# Generate a single normal value with default parameter values.\n",
    "rng.uniform()"
   ]
  },
  {
   "cell_type": "code",
   "execution_count": 94,
   "metadata": {},
   "outputs": [],
   "source": [
    "# Generate 5000 normal values with loc & size settings.\n",
    "a = rng.normal(loc=50, size=10000)"
   ]
  },
  {
   "cell_type": "code",
   "execution_count": 95,
   "metadata": {},
   "outputs": [
    {
     "data": {
      "text/plain": [
       "49.99749997587692"
      ]
     },
     "execution_count": 95,
     "metadata": {},
     "output_type": "execute_result"
    }
   ],
   "source": [
    "# Check the mean.\n",
    "a.mean()"
   ]
  },
  {
   "cell_type": "code",
   "execution_count": 96,
   "metadata": {},
   "outputs": [
    {
     "data": {
      "text/plain": [
       "1.0093488370138588"
      ]
     },
     "execution_count": 96,
     "metadata": {},
     "output_type": "execute_result"
    }
   ],
   "source": [
    "# Check the standard deviation. \n",
    "a.std()"
   ]
  },
  {
   "cell_type": "markdown",
   "metadata": {},
   "source": [
    "The default standard deviation for the normal function is set to around 1 which represents approximately 68 percent of the data. "
   ]
  },
  {
   "cell_type": "code",
   "execution_count": 97,
   "metadata": {},
   "outputs": [
    {
     "data": {
      "text/plain": [
       "<AxesSubplot:ylabel='Count'>"
      ]
     },
     "execution_count": 97,
     "metadata": {},
     "output_type": "execute_result"
    },
    {
     "data": {
      "image/png": "[encoded data removed]",
      "text/plain": [
       "<Figure size 432x432 with 1 Axes>"
      ]
     },
     "metadata": {
      "needs_background": "light"
     },
     "output_type": "display_data"
    }
   ],
   "source": [
    "# Plot data on histogram with kernal density estimation. \n",
    "sns.histplot(a, kde=True)"
   ]
  },
  {
   "cell_type": "markdown",
   "metadata": {},
   "source": [
    "<br>\n",
    "\n",
    "#### Specify scale\n",
    "***"
   ]
  },
  {
   "cell_type": "markdown",
   "metadata": {},
   "source": [
    "#### <i> Example: IQ Tests.</i> \n",
    "\n",
    "[3]\n",
    "\n",
    "Assume the mean of IQ results are 100. Set the `loc` parameter to the mean IQ of 100.<br>\n",
    "Assume the standard deviation is 15: Set `scale` to 15. <br>\n",
    "The `size` in this case are the subjects(people), this is set to 1,000,000."
   ]
  },
  {
   "cell_type": "code",
   "execution_count": 98,
   "metadata": {},
   "outputs": [],
   "source": [
    "# Specify mean & standard deviation.\n",
    "m = 100\n",
    "s = 15\n",
    "\n",
    "# Produce 1,000,000 normally distributed values.\n",
    "x = rng.normal(loc=m, scale=s, size=1000000)"
   ]
  },
  {
   "cell_type": "code",
   "execution_count": 99,
   "metadata": {},
   "outputs": [
    {
     "data": {
      "text/plain": [
       "1000000"
      ]
     },
     "execution_count": 99,
     "metadata": {},
     "output_type": "execute_result"
    }
   ],
   "source": [
    "# Check the size of output array.\n",
    "x.size"
   ]
  },
  {
   "cell_type": "code",
   "execution_count": 100,
   "metadata": {},
   "outputs": [
    {
     "data": {
      "text/plain": [
       "14.994839263942968"
      ]
     },
     "execution_count": 100,
     "metadata": {},
     "output_type": "execute_result"
    }
   ],
   "source": [
    "# Check standard deviation. \n",
    "x.std()"
   ]
  },
  {
   "cell_type": "code",
   "execution_count": 101,
   "metadata": {},
   "outputs": [
    {
     "data": {
      "text/plain": [
       "<seaborn.axisgrid.FacetGrid at 0x122b9b580>"
      ]
     },
     "execution_count": 101,
     "metadata": {},
     "output_type": "execute_result"
    },
    {
     "data": {
      "image/png": "[encoded data removed]",
      "text/plain": [
       "<Figure size 360x360 with 1 Axes>"
      ]
     },
     "metadata": {
      "needs_background": "light"
     },
     "output_type": "display_data"
    }
   ],
   "source": [
    "# Plot the data with kernal density estimation. \n",
    "sns.displot(x, kde=True, bins=30)"
   ]
  },
  {
   "cell_type": "code",
   "execution_count": 102,
   "metadata": {},
   "outputs": [
    {
     "data": {
      "text/plain": [
       "174.1643567291963"
      ]
     },
     "execution_count": 102,
     "metadata": {},
     "output_type": "execute_result"
    }
   ],
   "source": [
    "# Check highest value.\n",
    "np.amax(x)"
   ]
  },
  {
   "cell_type": "code",
   "execution_count": 103,
   "metadata": {},
   "outputs": [
    {
     "data": {
      "text/plain": [
       "31.231278505883594"
      ]
     },
     "execution_count": 103,
     "metadata": {},
     "output_type": "execute_result"
    }
   ],
   "source": [
    "# Check lowest value. \n",
    "np.amin(x)"
   ]
  },
  {
   "cell_type": "markdown",
   "metadata": {},
   "source": [
    "<br>\n",
    "\n",
    "## `uniform()` \n",
    "\n",
    "[Documentation](https://numpy.org/doc/stable/reference/random/generated/numpy.random.Generator.normal.html#numpy.random.Generator.uniform)\n",
    "\n",
    "Generate random samples from the uniform distribution. \n",
    "\n",
    "***"
   ]
  },
  {
   "cell_type": "markdown",
   "metadata": {},
   "source": [
    "&nbsp;&nbsp;&nbsp;&nbsp;&nbsp;&nbsp;&nbsp;&nbsp;&nbsp;&nbsp;`random.Generator.uniform(low=0.0, high=1.0, size=None)`"
   ]
  },
  {
   "cell_type": "markdown",
   "metadata": {},
   "source": [
    "Samples returned from this function \"are uniformly distributed over the half-open interval [low, high)\".[4] That is, that any value within the given range has equal probability of being selected. The low parameter value is included, however, the high value is excluded, denoted by the closed bracket before the low parameter and an open round bracket after the high parameter. That is, values very close to the upper bound can be returned but the high value will not be returned.\n",
    "\n",
    "As the values are within a range it is said to be a continuous distribution. \n",
    "When dealing with discrete values (i.e., arrays of values), Numpys's integers function would be suitable.\n",
    "\n",
    "Uniform distribution is used for calculating possibilities. This distributions is also known as rectangular distribution owing to its rectangular shape, see figure below."
   ]
  },
  {
   "cell_type": "markdown",
   "metadata": {},
   "source": [
    "<br>\n",
    "\n",
    "#### Continuous uniform distribution function\n",
    "***"
   ]
  },
  {
   "cell_type": "markdown",
   "metadata": {},
   "source": [
    "<center><img src=\"Images/Uniform_Distribution.svg\" alt=\"gaussian\" style=\"align:center; width:400px\"></center>[5]\n",
    "\n",
    "<br>"
   ]
  },
  {
   "cell_type": "code",
   "execution_count": 104,
   "metadata": {},
   "outputs": [
    {
     "data": {
      "text/plain": [
       "0.05878143929280377"
      ]
     },
     "execution_count": 104,
     "metadata": {},
     "output_type": "execute_result"
    }
   ],
   "source": [
    "# Generate single number using default parameters.\n",
    "rng.uniform() # The default low value is 0, while the high value is 1. "
   ]
  },
  {
   "cell_type": "code",
   "execution_count": 105,
   "metadata": {},
   "outputs": [
    {
     "data": {
      "text/plain": [
       "array([0.21543417, 0.27961932, 0.87529922, 0.37011587, 0.6371496 ,\n",
       "       0.41109167, 0.42754868, 0.55384591, 0.19470713, 0.19464197,\n",
       "       0.21240369, 0.6386002 , 0.60219004, 0.3935872 , 0.79534628,\n",
       "       0.81379887, 0.98080285, 0.70498832, 0.90444317, 0.55442069,\n",
       "       0.59082519, 0.48825263, 0.08344897, 0.21397308, 0.99300599,\n",
       "       0.32475212, 0.12063728, 0.43730719, 0.59002031, 0.64168954,\n",
       "       0.81710159, 0.34779154, 0.42870167, 0.10351962, 0.96488044,\n",
       "       0.35201393, 0.44058528, 0.11501325, 0.83467048, 0.78831273,\n",
       "       0.53548388, 0.20180326, 0.7753092 , 0.95272853, 0.55298135,\n",
       "       0.8791111 , 0.01721387, 0.99463713, 0.86349783, 0.60010729,\n",
       "       0.87600938, 0.93530967, 0.46953075, 0.85596822, 0.2492841 ,\n",
       "       0.7252379 , 0.82088979, 0.34383905, 0.8356661 , 0.92034025,\n",
       "       0.9785994 , 0.57522154, 0.43028897, 0.92293062, 0.6927325 ,\n",
       "       0.08242814, 0.20100588, 0.03535544, 0.02841706, 0.96674831,\n",
       "       0.02783552, 0.39358848, 0.75391335, 0.90187013, 0.71946595,\n",
       "       0.80964871, 0.34599655, 0.39980227, 0.89861378, 0.9180513 ,\n",
       "       0.32813786, 0.90827093, 0.4638623 , 0.38799962, 0.26629008,\n",
       "       0.7801657 , 0.57080388, 0.41507681, 0.61228243, 0.16377741,\n",
       "       0.70153967, 0.33100632, 0.20907947, 0.91733961, 0.08826119,\n",
       "       0.39147268, 0.33634437, 0.10287572, 0.98616472, 0.24100653])"
      ]
     },
     "execution_count": 105,
     "metadata": {},
     "output_type": "execute_result"
    }
   ],
   "source": [
    "# Generate 100 numbers within default range.\n",
    "rng.uniform(size=100)"
   ]
  },
  {
   "cell_type": "markdown",
   "metadata": {},
   "source": [
    "#### Note how the high value is excluded."
   ]
  },
  {
   "cell_type": "code",
   "execution_count": 141,
   "metadata": {},
   "outputs": [
    {
     "data": {
      "text/plain": [
       "array([58.74731485, 39.6237577 , 69.30462756, ..., 36.17875225,\n",
       "       60.04620205, 27.60661047])"
      ]
     },
     "execution_count": 141,
     "metadata": {},
     "output_type": "execute_result"
    }
   ],
   "source": [
    "# Generate sample specifying range. \n",
    "x = rng.uniform(low=10, high=100, size=10000)\n",
    "x"
   ]
  },
  {
   "cell_type": "code",
   "execution_count": 142,
   "metadata": {},
   "outputs": [
    {
     "data": {
      "text/plain": [
       "<AxesSubplot:ylabel='Count'>"
      ]
     },
     "execution_count": 142,
     "metadata": {},
     "output_type": "execute_result"
    },
    {
     "data": {
      "image/png": "[encoded data removed]",
      "text/plain": [
       "<Figure size 432x432 with 1 Axes>"
      ]
     },
     "metadata": {
      "needs_background": "light"
     },
     "output_type": "display_data"
    }
   ],
   "source": [
    "# Plot results with kernal density estimation. \n",
    "sns.histplot(x, kde=True, bins=10)"
   ]
  },
  {
   "cell_type": "code",
   "execution_count": 143,
   "metadata": {},
   "outputs": [
    {
     "data": {
      "text/plain": [
       "99.9982957578696"
      ]
     },
     "execution_count": 143,
     "metadata": {},
     "output_type": "execute_result"
    }
   ],
   "source": [
    "# Highest value\n",
    "np.amax(x)"
   ]
  },
  {
   "cell_type": "code",
   "execution_count": 144,
   "metadata": {},
   "outputs": [
    {
     "data": {
      "text/plain": [
       "10.023818309940589"
      ]
     },
     "execution_count": 144,
     "metadata": {},
     "output_type": "execute_result"
    }
   ],
   "source": [
    "# Lowest value\n",
    "np.amin(x)"
   ]
  },
  {
   "cell_type": "markdown",
   "metadata": {},
   "source": [
    "<br>\n",
    "\n",
    "#### <i> Example: Deck of cards\n",
    "***    \n",
    "    \n",
    "- Consider a deck of 52 cards. \n",
    "    \n",
    "- The following code will draw a card from the deck 100,000 times. \n",
    "    \n",
    "- As each card is unique, the probability of pulling any card from the deck is equally likely. \n",
    "    \n",
    "See the results below!\n",
    "    \n",
    "<img src=\"Images/deck_cards_uniform.png\" alt=\"gaussian\" style=\"align:center; width:200px\">\n"
   ]
  },
  {
   "cell_type": "code",
   "execution_count": 170,
   "metadata": {},
   "outputs": [],
   "source": [
    "# Create uniform distribution.\n",
    "cards = rng.uniform(1, 53, 100000)"
   ]
  },
  {
   "cell_type": "code",
   "execution_count": 174,
   "metadata": {},
   "outputs": [
    {
     "data": {
      "text/plain": [
       "<AxesSubplot:ylabel='Count'>"
      ]
     },
     "execution_count": 174,
     "metadata": {},
     "output_type": "execute_result"
    },
    {
     "data": {
      "image/png": "[encoded data removed]",
      "text/plain": [
       "<Figure size 432x432 with 1 Axes>"
      ]
     },
     "metadata": {
      "needs_background": "light"
     },
     "output_type": "display_data"
    }
   ],
   "source": [
    "# Plot occurances of cards. \n",
    "sns.histplot(cards, bins=52, kde=True)"
   ]
  },
  {
   "cell_type": "markdown",
   "metadata": {},
   "source": [
    "#### After 100,000 pulls from the deck, we can see that each card was selected a similar number of times. \n",
    "\n",
    "#### Note the rectangler shape characteristic of a uniform distribution. \n"
   ]
  },
  {
   "cell_type": "markdown",
   "metadata": {},
   "source": [
    "<br>\n",
    "\n",
    "# `binomial()`\n",
    "***"
   ]
  },
  {
   "cell_type": "code",
   "execution_count": null,
   "metadata": {},
   "outputs": [],
   "source": []
  },
  {
   "cell_type": "code",
   "execution_count": null,
   "metadata": {},
   "outputs": [],
   "source": []
  },
  {
   "cell_type": "code",
   "execution_count": null,
   "metadata": {},
   "outputs": [],
   "source": []
  },
  {
   "cell_type": "code",
   "execution_count": null,
   "metadata": {},
   "outputs": [],
   "source": []
  },
  {
   "cell_type": "code",
   "execution_count": null,
   "metadata": {},
   "outputs": [],
   "source": []
  },
  {
   "cell_type": "markdown",
   "metadata": {},
   "source": [
    "<br>\n",
    "\n",
    "#### References:\n",
    "***\n",
    "[0] https://economictimes.indiatimes.com/definition/standard-deviation\n",
    "\n",
    "[1] https://studiousguy.com/real-life-examples-normal-distribution/\n",
    "\n",
    "[2] https://towardsdatascience.com/understanding-the-68-95-99-7-rule-for-a-normal-distribution-b7b7cbf760c2\n",
    "\n",
    "[3] https://mathstat.slu.edu/~may/ExcelCalculus/sec-7-6-NormalDistribution.html\n",
    "\n",
    "[4] https://numpy.org/doc/stable/reference/random/generated/numpy.random.Generator.uniform.html#numpy.random.Generator.uniform\n",
    "\n",
    "[5] https://en.wikipedia.org/wiki/Continuous_uniform_distribution"
   ]
  },
  {
   "cell_type": "markdown",
   "metadata": {},
   "source": [
    "<br>\n",
    "\n",
    "## numpy.random.normal\n",
    "\n",
    "https://numpy.org/doc/stable/reference/random/generated/numpy.random.normal.html\n",
    "\n",
    "***- `replace=True` means that each random selection will contain all of the orginal values. "
   ]
  },
  {
   "cell_type": "code",
   "execution_count": 46,
   "metadata": {},
   "outputs": [],
   "source": [
    "mu, sigma = 0, 0.1 # mean and standard deviation\n",
    "s = np.random.normal(mu, sigma, 1000)"
   ]
  },
  {
   "cell_type": "code",
   "execution_count": 47,
   "metadata": {
    "tags": []
   },
   "outputs": [
    {
     "data": {
      "text/plain": [
       "array([-0.00660361, -0.1651717 ,  0.05116778, -0.19277059,  0.0319987 ,\n",
       "        0.03543401,  0.04719846, -0.00236746, -0.08263346,  0.01042905])"
      ]
     },
     "execution_count": 47,
     "metadata": {},
     "output_type": "execute_result"
    }
   ],
   "source": [
    "# Look at the first ten items.\n",
    "s[:10]"
   ]
  },
  {
   "cell_type": "code",
   "execution_count": 48,
   "metadata": {},
   "outputs": [
    {
     "data": {
      "text/plain": [
       "0.00095623390235612"
      ]
     },
     "execution_count": 48,
     "metadata": {},
     "output_type": "execute_result"
    }
   ],
   "source": [
    "abs(mu - np.mean(s))"
   ]
  },
  {
   "cell_type": "code",
   "execution_count": 49,
   "metadata": {},
   "outputs": [
    {
     "data": {
      "text/plain": [
       "0.0006499949955943302"
      ]
     },
     "execution_count": 49,
     "metadata": {},
     "output_type": "execute_result"
    }
   ],
   "source": [
    "abs(sigma - np.std(s, ddof=1))"
   ]
  },
  {
   "cell_type": "code",
   "execution_count": 50,
   "metadata": {},
   "outputs": [
    {
     "data": {
      "image/png": "[encoded data removed]",
      "text/plain": [
       "<Figure size 432x432 with 1 Axes>"
      ]
     },
     "metadata": {
      "needs_background": "light"
     },
     "output_type": "display_data"
    }
   ],
   "source": [
    "count, bins, ignored = plt.hist(s, 30, density=True)\n",
    "f = 1/(sigma * np.sqrt(2 * np.pi)) * np.exp(-(bins - mu)**2/(2 * sigma**2))\n",
    "plt.plot(bins, f, linewidth=2)\n",
    "plt.show()"
   ]
  },
  {
   "cell_type": "markdown",
   "metadata": {},
   "source": [
    "<br>\n",
    "\n",
    "## Rolling dice\n",
    "\n",
    "***"
   ]
  },
  {
   "cell_type": "markdown",
   "metadata": {},
   "source": [
    "Roll a single dice.\n",
    "\n",
    "https://numpy.org/doc/stable/reference/random/generated/numpy.random.randint.html"
   ]
  },
  {
   "cell_type": "code",
   "execution_count": 51,
   "metadata": {},
   "outputs": [
    {
     "data": {
      "text/plain": [
       "1"
      ]
     },
     "execution_count": 51,
     "metadata": {},
     "output_type": "execute_result"
    }
   ],
   "source": [
    "# Pick a random integer between 1 (inclusive) and 7 (exclusive).\n",
    "np.random.randint(1, 7)"
   ]
  },
  {
   "cell_type": "markdown",
   "metadata": {},
   "source": [
    "Roll several dice."
   ]
  },
  {
   "cell_type": "code",
   "execution_count": 52,
   "metadata": {},
   "outputs": [],
   "source": [
    "runs = 10000"
   ]
  },
  {
   "cell_type": "code",
   "execution_count": 53,
   "metadata": {},
   "outputs": [],
   "source": [
    "# Pick many random integers between 1 (inclusive) and 7 (exclusive).\n",
    "dice = np.random.randint(1, 7, runs)"
   ]
  },
  {
   "cell_type": "code",
   "execution_count": 54,
   "metadata": {},
   "outputs": [
    {
     "data": {
      "text/plain": [
       "array([4, 1, 6, ..., 6, 2, 5])"
      ]
     },
     "execution_count": 54,
     "metadata": {},
     "output_type": "execute_result"
    }
   ],
   "source": [
    "# See the values.\n",
    "dice"
   ]
  },
  {
   "cell_type": "markdown",
   "metadata": {},
   "source": [
    "<br>\n",
    "\n",
    "Plot the dice rolls\n",
    "\n",
    "https://numpy.org/doc/stable/reference/generated/numpy.unique.html\n",
    "\n",
    "***"
   ]
  },
  {
   "cell_type": "code",
   "execution_count": 55,
   "metadata": {
    "scrolled": true
   },
   "outputs": [
    {
     "data": {
      "text/plain": [
       "(array([1, 2, 3, 4, 5, 6]), array([1666, 1638, 1647, 1692, 1666, 1691]))"
      ]
     },
     "execution_count": 55,
     "metadata": {},
     "output_type": "execute_result"
    }
   ],
   "source": [
    "# Count the number of times each face appears.\n",
    "faces, counts = np.unique(dice, return_counts=True)\n",
    "faces, counts"
   ]
  },
  {
   "cell_type": "code",
   "execution_count": 56,
   "metadata": {},
   "outputs": [
    {
     "data": {
      "image/png": "[encoded data removed]",
      "text/plain": [
       "<Figure size 432x432 with 1 Axes>"
      ]
     },
     "metadata": {
      "needs_background": "light"
     },
     "output_type": "display_data"
    }
   ],
   "source": [
    "# Create a new plot.\n",
    "fig, ax = plt.subplots()\n",
    "# Bar chart.\n",
    "ax.barh(faces, counts)\n",
    "# Set axis labels.\n",
    "ax.set_ylabel('Face')\n",
    "ax.set_xlabel('Count');"
   ]
  },
  {
   "cell_type": "markdown",
   "metadata": {},
   "source": [
    "<br>\n",
    "\n",
    "## Roll more than one dice\n",
    "\n",
    "***"
   ]
  },
  {
   "cell_type": "code",
   "execution_count": 57,
   "metadata": {},
   "outputs": [
    {
     "data": {
      "text/plain": [
       "array([[5, 2],\n",
       "       [3, 4],\n",
       "       [4, 2],\n",
       "       ...,\n",
       "       [4, 3],\n",
       "       [5, 5],\n",
       "       [1, 3]])"
      ]
     },
     "execution_count": 57,
     "metadata": {},
     "output_type": "execute_result"
    }
   ],
   "source": [
    "# The number of dice to roll in each turn.\n",
    "nodice = 2\n",
    "# The number of turns.\n",
    "noturns = 10000\n",
    "# Roll the dice.\n",
    "dice = np.random.randint(1, 7, (noturns, nodice))\n",
    "# Have a look.\n",
    "dice"
   ]
  },
  {
   "cell_type": "code",
   "execution_count": 58,
   "metadata": {},
   "outputs": [
    {
     "data": {
      "text/plain": [
       "array([ 7,  7,  6, ...,  7, 10,  4])"
      ]
     },
     "execution_count": 58,
     "metadata": {},
     "output_type": "execute_result"
    }
   ],
   "source": [
    "# Sum the faces of the dice.\n",
    "totals = np.sum(dice, axis=1)\n",
    "# Have a look.\n",
    "totals"
   ]
  },
  {
   "cell_type": "code",
   "execution_count": 59,
   "metadata": {},
   "outputs": [
    {
     "data": {
      "text/plain": [
       "(array([ 2,  3,  4,  5,  6,  7,  8,  9, 10, 11, 12]),\n",
       " array([ 266,  596,  805, 1123, 1392, 1692, 1379, 1073,  845,  558,  271]))"
      ]
     },
     "execution_count": 59,
     "metadata": {},
     "output_type": "execute_result"
    }
   ],
   "source": [
    "# Count the number of times each face appears.\n",
    "faces, counts = np.unique(totals, return_counts=True)\n",
    "faces, counts"
   ]
  },
  {
   "cell_type": "code",
   "execution_count": 60,
   "metadata": {},
   "outputs": [
    {
     "data": {
      "image/png": "[encoded data removed]",
      "text/plain": [
       "<Figure size 432x432 with 1 Axes>"
      ]
     },
     "metadata": {
      "needs_background": "light"
     },
     "output_type": "display_data"
    }
   ],
   "source": [
    "# Create a new plot.\n",
    "fig, ax = plt.subplots()\n",
    "# Bar chart.\n",
    "ax.bar(faces, counts)\n",
    "# Set axis labels.\n",
    "ax.set_ylabel('Face')\n",
    "ax.set_xlabel('Count');"
   ]
  },
  {
   "cell_type": "markdown",
   "metadata": {},
   "source": [
    "<br>\n",
    "\n",
    "## Lots of dice\n",
    "\n",
    "***"
   ]
  },
  {
   "cell_type": "code",
   "execution_count": 61,
   "metadata": {},
   "outputs": [
    {
     "data": {
      "image/png": "[encoded data removed]",
      "text/plain": [
       "<Figure size 432x432 with 1 Axes>"
      ]
     },
     "metadata": {
      "needs_background": "light"
     },
     "output_type": "display_data"
    }
   ],
   "source": [
    "# The number of dice to roll in each turn.\n",
    "nodice = 100\n",
    "# The number of turns.\n",
    "noturns = 100000\n",
    "# Roll the dice.\n",
    "dice = np.random.randint(1, 7, (noturns, nodice))\n",
    "# Sum the faces of the dice.\n",
    "totals = np.sum(dice, axis=1)\n",
    "# Count the number of times each face appears.\n",
    "faces, counts = np.unique(totals, return_counts=True)\n",
    "# Create a new plot.\n",
    "fig, ax = plt.subplots()\n",
    "# Bar chart.\n",
    "ax.bar(faces, counts)\n",
    "# Set axis labels.\n",
    "ax.set_ylabel('Face total')\n",
    "ax.set_xlabel('Count');"
   ]
  },
  {
   "cell_type": "markdown",
   "metadata": {},
   "source": [
    "## References\n",
    "\n",
    "***\n",
    "\n",
    "[1] https://www.datacamp.com/community/tutorials/numpy-random"
   ]
  },
  {
   "cell_type": "markdown",
   "metadata": {},
   "source": [
    "***\n",
    "\n",
    "## End"
   ]
  }
 ],
 "metadata": {
  "interpreter": {
   "hash": "40d3a090f54c6569ab1632332b64b2c03c39dcf918b08424e98f38b5ae0af88f"
  },
  "kernelspec": {
   "display_name": "Python 3 (ipykernel)",
   "language": "python",
   "name": "python3"
  },
  "language_info": {
   "codemirror_mode": {
    "name": "ipython",
    "version": 3
   },
   "file_extension": ".py",
   "mimetype": "text/x-python",
   "name": "python",
   "nbconvert_exporter": "python",
   "pygments_lexer": "ipython3",
   "version": "3.8.5"
  }
 },
 "nbformat": 4,
 "nbformat_minor": 5
}
