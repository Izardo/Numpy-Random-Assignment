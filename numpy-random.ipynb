{
 "cells": [
  {
   "cell_type": "markdown",
   "metadata": {},
   "source": [
    "<center><img src=\"Images/dice.png\" alt=\"dice\" style=\"width:200px\"></center>\n",
    "\n",
    "# The Numpy Random Package\n",
    "\n",
    "[Official documentation](https://numpy.org/doc/stable/reference/random/index.html)\n",
    "\n",
    "***"
   ]
  },
  {
   "cell_type": "markdown",
   "metadata": {},
   "source": [
    "<br>\n",
    "\n",
    "## Table of Contents\n",
    "\n",
    "#### [1. Introduction](#Intro)\n",
    "\n",
    "#### [2. Simple random data](#Simple-random-data)\n",
    "&nbsp;&nbsp;&nbsp;&nbsp;[- Integers](#Integers)<br>\n",
    "&nbsp;&nbsp;&nbsp;&nbsp;[- Floats](#Floats)<br>\n",
    "&nbsp;&nbsp;&nbsp;&nbsp;[- Choice](#Choice)<br>\n",
    "&nbsp;&nbsp;&nbsp;&nbsp;[- Bytes](#Bytes)\n",
    "\n",
    "#### [3. Permutations](#Permutations)\n",
    "&nbsp;&nbsp;&nbsp;&nbsp;[- Shuffle](#Shuffle)<br>\n",
    "&nbsp;&nbsp;&nbsp;&nbsp;[- Permutation](#Permutation)<br>\n",
    "&nbsp;&nbsp;&nbsp;&nbsp;[- Permuted](#Permuted)\n",
    "\n",
    "#### [4. Distributions](#Distr)\n",
    "&nbsp;&nbsp;&nbsp;&nbsp;[- Normal](#Normal)<br>\n",
    "&nbsp;&nbsp;&nbsp;&nbsp;[- Uniform](#Uniform)<br>\n",
    "&nbsp;&nbsp;&nbsp;&nbsp;[- Binomial](#Binomial)<br>\n",
    "&nbsp;&nbsp;&nbsp;&nbsp;[- Multinomial](#Multinomial)<br>\n",
    "&nbsp;&nbsp;&nbsp;&nbsp;[- Geometric](#Geometric)<br>\n",
    "\n",
    "#### [5. Seeds](#Seeds)\n"
   ]
  },
  {
   "cell_type": "markdown",
   "metadata": {},
   "source": [
    "<br>\n",
    "<a id=\"Intro\"></a>\n",
    "\n",
    "# <center>1. Introduction </center>\n",
    "***\n",
    "\n",
    "Random number generation has many applications in the real world such as gambling, statistics, computer simulation, cryptography and any other area that requires an unpredicatable outcome. Most applications use a pseudorandom number generator (PRNG) however, True Random Number Generators (TRNG) do exist. Such a device can generate random numbers via a physical process, such as radioactive decay or thermal noise in a semiconductor. Both instrinsically random processes as per quantum theory.[1] As most application do not rely on truly random generation, pseudorandom number generation is generally used. It is called pseudorandom because it relies on a determined value known as the seed. \n",
    "\n",
    "Numpy's random package produces pseudorandom numbers by combining a BitGenerator, which produces a sequence of random bits (typically 32 or 64 bits) and a Generator, that converts the sequence into a sequence of numbers. The Generator conforms to a particular probability distribution ie., uniform, Normal or Binomial. [2] Five such packages will be discussed in the \"Distributions\" section.\n",
    "\n",
    "<a id=\"RS-v-Gen\"></a>\n",
    "\n",
    "#### Random State vs Generator\n",
    "\n",
    "Generator replaces the legacy version Random State, since being updated in version 1.17.0. Random State legacy version is still be used however, it is limited to a single bitGenerator. Generator has multiple bitGenerators - meaning many distinct probability distributions are available for use. A further benefit of Generator is that by default it utilises bits that are produced by PCG-64, a 28-bit execution of O’Neill’s permutation congruential generator, which provides good statistical algorithms for generating random numbers that are difficult to predict.[3]\n",
    "\n",
    "For the random generator documentation click here: [Random Generator Documentation](https://numpy.org/doc/stable/reference/random/generator.html)\n",
    "### "
   ]
  },
  {
   "cell_type": "markdown",
   "metadata": {},
   "source": [
    "### Set up\n",
    "***"
   ]
  },
  {
   "cell_type": "markdown",
   "metadata": {},
   "source": [
    "#### Import libraries"
   ]
  },
  {
   "cell_type": "code",
   "execution_count": 289,
   "metadata": {},
   "outputs": [],
   "source": [
    "# Numerical arrays.\n",
    "import numpy as np\n",
    "\n",
    "# Plotting data.\n",
    "import matplotlib.pyplot as plt\n",
    "\n",
    "# Nice plot style. \n",
    "import seaborn as sns"
   ]
  },
  {
   "cell_type": "markdown",
   "metadata": {},
   "source": [
    "#### Set plot defaults"
   ]
  },
  {
   "cell_type": "code",
   "execution_count": null,
   "metadata": {},
   "outputs": [],
   "source": [
    "# Set default plot style.\n",
    "plt.style.use('fivethirtyeight')\n",
    "\n",
    "# Set default figure size.\n",
    "plt.rcParams['figure.figsize'] = [10, 6]\n",
    "\n",
    "# Renders plots nicely in notebook.\n",
    "%matplotlib inline"
   ]
  },
  {
   "cell_type": "markdown",
   "metadata": {},
   "source": [
    "<br>\n",
    "\n",
    "### Construct a Generator\n",
    "\n",
    "***"
   ]
  },
  {
   "cell_type": "markdown",
   "metadata": {},
   "source": [
    "The variable `rng` will be used in place of `np.random.generator` in code examples throughout this notebook for simplification."
   ]
  },
  {
   "cell_type": "code",
   "execution_count": 376,
   "metadata": {},
   "outputs": [],
   "source": [
    "# Create a new generator with bitGenerator PCG64. \n",
    "rng = np.random.default_rng(1) # Setting seed for reproducible results."
   ]
  },
  {
   "cell_type": "markdown",
   "metadata": {},
   "source": [
    "The integer value passed through as a parameter is known as a seed. Seeds will be discussed in more detail in section 5."
   ]
  },
  {
   "cell_type": "markdown",
   "metadata": {},
   "source": [
    "<br>\n",
    "\n",
    "### References:\n",
    "***\n",
    "\n",
    "[1] RANDy - A True-Random Generator Based On Radioactive, Decay, Markus Rohe, Fortgeschrittenenpraktikum\n",
    "Advisor: Ammar Alkassar\n",
    "Security and Cryptography Research Group\n",
    "Saarland University\n",
    "SS 2003 https://citeseerx.ist.psu.edu/viewdoc/download?doi=10.1.1.110.9725&rep=rep1&type=pdf\n",
    "\n",
    "[2] https://numpy.org/doc/stable/reference/random/index.html accesed 2.11.21\n",
    "\n",
    "[3] https://www.pcg-random.org/index.html accessed 2.11.21\n",
    "\n",
    "<br>"
   ]
  },
  {
   "cell_type": "markdown",
   "metadata": {},
   "source": [
    "<br>\n",
    "\n",
    "<a id=\"#Simple-random-data\"></a>\n",
    "\n",
    "\n",
    "# <center>2. Simple random data</center>\n",
    "#### <center><i>This section introduces numpy's built-in functions for producing random samples.</i></center>"
   ]
  },
  {
   "cell_type": "markdown",
   "metadata": {},
   "source": [
    "<br>\n",
    "<a id=\"Integers\"></a>\n",
    "\n",
    "# `integers()`\n",
    "\n",
    "[Documentation](https://numpy.org/doc/stable/reference/random/generated/numpy.random.Generator.integers.html#numpy.random.Generator.integers)\n",
    "\n",
    "Generates random integer values. \n",
    "***"
   ]
  },
  {
   "cell_type": "markdown",
   "metadata": {},
   "source": [
    "&nbsp;&nbsp;&nbsp;&nbsp;&nbsp;&nbsp;&nbsp;&nbsp;&nbsp;&nbsp;&nbsp;&nbsp;`random.Generator.integers(low, high=None, size=None, dtype=np.int64, endpoint=False)`"
   ]
  },
  {
   "cell_type": "markdown",
   "metadata": {},
   "source": [
    "The range is specified using the low and high parameters, the low value is inclusive while the high value is exclusive. The returned integers are from the discrete uniform distribution meaning each n value has equal probability of being returned."
   ]
  },
  {
   "cell_type": "markdown",
   "metadata": {},
   "source": [
    "<center><img src=\"Images/discrete_uniform.png\" alt=\"dice\" style=\"width:400px\"></center>"
   ]
  },
  {
   "cell_type": "markdown",
   "metadata": {},
   "source": [
    "[1]"
   ]
  },
  {
   "cell_type": "code",
   "execution_count": 291,
   "metadata": {},
   "outputs": [
    {
     "data": {
      "text/plain": [
       "array([4, 5, 7, 9, 0, 1, 8, 9, 2, 3, 8, 4, 2, 8, 2, 4, 6, 5, 0, 0, 8, 7,\n",
       "       8, 5, 8, 3, 4, 7, 1, 3, 1, 4, 9, 1, 3, 4, 9, 2, 5, 2, 0, 7, 0, 2,\n",
       "       4, 4, 1, 9, 7, 9, 0, 7, 2, 5, 9, 2, 7, 1, 3, 9, 4, 5, 2, 1, 4, 6,\n",
       "       4, 7, 3, 6, 7, 9, 4, 0, 7, 5, 8, 4, 3, 0, 4, 6, 7, 8, 2, 5, 8, 2,\n",
       "       3, 8, 5, 5, 6, 5, 9, 7, 0, 1, 5, 8])"
      ]
     },
     "execution_count": 291,
     "metadata": {},
     "output_type": "execute_result"
    }
   ],
   "source": [
    "# Random integer array.\n",
    "rng.integers(low=0, high=10, size=100)"
   ]
  },
  {
   "cell_type": "code",
   "execution_count": 292,
   "metadata": {},
   "outputs": [
    {
     "data": {
      "text/plain": [
       "array([0])"
      ]
     },
     "execution_count": 292,
     "metadata": {},
     "output_type": "execute_result"
    }
   ],
   "source": [
    "# A single random integer. \n",
    "rng.integers(0, 10, 1)"
   ]
  },
  {
   "cell_type": "markdown",
   "metadata": {},
   "source": [
    "<br>\n",
    "\n",
    "### Specifying endpoint\n",
    "***\n",
    "\n",
    "With endpoint set to True the range of numbers is inclusive of high and low values.\n"
   ]
  },
  {
   "cell_type": "code",
   "execution_count": 293,
   "metadata": {},
   "outputs": [
    {
     "data": {
      "text/plain": [
       "array([7, 8, 8, 9, 2, 6, 8, 3, 2, 5, 0, 2, 9, 7, 9, 9, 9, 3, 5, 6])"
      ]
     },
     "execution_count": 293,
     "metadata": {},
     "output_type": "execute_result"
    }
   ],
   "source": [
    "# endpoint=True\n",
    "ran_int = rng.integers(low=0, high=10, size=20, endpoint=True)\n",
    "ran_int"
   ]
  },
  {
   "cell_type": "markdown",
   "metadata": {},
   "source": [
    "<br>\n",
    "\n",
    "### Default dytype\n",
    "***\n",
    "\n",
    "64 bits for high precision accuracy. However, 32 bits is sufficient for most functions. "
   ]
  },
  {
   "cell_type": "code",
   "execution_count": 294,
   "metadata": {},
   "outputs": [
    {
     "data": {
      "text/plain": [
       "numpy.int64"
      ]
     },
     "execution_count": 294,
     "metadata": {},
     "output_type": "execute_result"
    }
   ],
   "source": [
    "# Check the type of data the function produces.\n",
    "type(ran_int[0])"
   ]
  },
  {
   "cell_type": "markdown",
   "metadata": {},
   "source": [
    "<br>\n",
    "\n",
    "### Example: Roll a dice\n",
    "***\n",
    "\n",
    "<img src=\"Images/dice.jpeg\" alt=\"dice\" style=\"width:200px\">\n",
    "\n",
    "<br>"
   ]
  },
  {
   "cell_type": "code",
   "execution_count": 295,
   "metadata": {},
   "outputs": [],
   "source": [
    "# Roll the dice 1000 times. \n",
    "rolls = rng.integers(1, 7, size=1000)"
   ]
  },
  {
   "cell_type": "code",
   "execution_count": 296,
   "metadata": {},
   "outputs": [
    {
     "data": {
      "text/plain": [
       "<AxesSubplot:ylabel='Count'>"
      ]
     },
     "execution_count": 296,
     "metadata": {},
     "output_type": "execute_result"
    },
    {
     "data": {
      "image/png": "[encoded data removed]",
      "text/plain": [
       "<Figure size 432x288 with 1 Axes>"
      ]
     },
     "metadata": {
      "needs_background": "light"
     },
     "output_type": "display_data"
    }
   ],
   "source": [
    "# Plot results.\n",
    "sns.histplot(rolls)"
   ]
  },
  {
   "cell_type": "markdown",
   "metadata": {},
   "source": [
    "As can be seen with the plot above, each side appeared a similar number of times after 1000 rolls (between 160 & 180 times each). This is typical of discrete uniform distribution, where the probability of occurances of events are equally possible within a finite range of values."
   ]
  },
  {
   "cell_type": "markdown",
   "metadata": {},
   "source": [
    "<br>\n",
    "\n",
    "<a id=\"Floats\"></a>\n",
    "\n",
    "# `random()`\n",
    "\n",
    "[Documentation](https://numpy.org/doc/stable/reference/random/generated/numpy.random.Generator.random.html#numpy.random.Generator.random)\n",
    "\n",
    "Generates random float values.\n",
    "\n",
    "***"
   ]
  },
  {
   "cell_type": "markdown",
   "metadata": {},
   "source": [
    "&nbsp;&nbsp;&nbsp;&nbsp;&nbsp;&nbsp;&nbsp;&nbsp;&nbsp;`random.Generator.random(size=None, dtype=np.float64, out=None)`\n",
    "\n"
   ]
  },
  {
   "cell_type": "code",
   "execution_count": 297,
   "metadata": {},
   "outputs": [
    {
     "data": {
      "text/plain": [
       "0.06909021073258215"
      ]
     },
     "execution_count": 297,
     "metadata": {},
     "output_type": "execute_result"
    }
   ],
   "source": [
    "# Generate a single floating point number with size parameter set to None\n",
    "rng.random(size=None)"
   ]
  },
  {
   "cell_type": "code",
   "execution_count": 298,
   "metadata": {},
   "outputs": [],
   "source": [
    "# Generate an array of floats each using 32 bits of memory. 64 bits is default and used for high precisison. \n",
    "a = rng.random(size=100000, dtype=np.float32) # Default range is 0 - 0.9999. "
   ]
  },
  {
   "cell_type": "code",
   "execution_count": 299,
   "metadata": {},
   "outputs": [
    {
     "data": {
      "text/plain": [
       "array([[0.72280032, 0.69292909, 0.30044938, 0.67553915, 0.68593969],\n",
       "       [0.3119568 , 0.04255255, 0.62254896, 0.44470254, 0.04120844],\n",
       "       [0.12480177, 0.54510201, 0.62564691, 0.08192362, 0.68602168],\n",
       "       [0.54557776, 0.41036559, 0.97361332, 0.58834629, 0.83019335],\n",
       "       [0.76849697, 0.5312257 , 0.83372515, 0.67992081, 0.0022397 ]])"
      ]
     },
     "execution_count": 299,
     "metadata": {},
     "output_type": "execute_result"
    }
   ],
   "source": [
    "# Generate multiple arrays.\n",
    "rng.random(size=(5, 5))"
   ]
  },
  {
   "cell_type": "markdown",
   "metadata": {},
   "source": [
    "<br>\n",
    "<a id=\"Choice\"></a>\n",
    "\n",
    "# `choice()`\n",
    "\n",
    "[Documentation](https://numpy.org/doc/stable/reference/random/generated/numpy.random.Generator.choice.html#numpy.random.Generator.choice)\n",
    "\n",
    "Generates a random sample from an array. \n",
    "***"
   ]
  },
  {
   "cell_type": "markdown",
   "metadata": {},
   "source": [
    "&nbsp;&nbsp;&nbsp;&nbsp;&nbsp;&nbsp;&nbsp;&nbsp;`random.Generator.choice(a, size=None, replace=True, p=None, axis=0, shuffle=True)`<br>"
   ]
  },
  {
   "cell_type": "markdown",
   "metadata": {},
   "source": [
    "\n",
    "### Produce a sample from an array of strings\n",
    "***\n",
    "\n",
    "<br>\n",
    "\n",
    "<img src=\"Images/choice.png\" alt=\"make achoice\" style=\"width:100px;\">\n",
    "\n",
    "The default for values returned is discrete uniform, similar to the integer function above, each value has the same probability of being returned. The example below illustrates this ie., a single value being chosen multiple times. \n",
    "\n",
    "Unlike the integer function, however, this setting can be changed as we will see with the `replace` parameter explanation at the end of this section."
   ]
  },
  {
   "cell_type": "code",
   "execution_count": 300,
   "metadata": {},
   "outputs": [
    {
     "data": {
      "text/plain": [
       "array(['red', 'green', 'red', 'red', 'yellow', 'blue', 'blue', 'blue',\n",
       "       'red', 'green'], dtype='<U6')"
      ]
     },
     "execution_count": 300,
     "metadata": {},
     "output_type": "execute_result"
    }
   ],
   "source": [
    "# Choose a colour at random 10 times and plot results.\n",
    "x = rng.choice([\"yellow\", \"red\", \"blue\", \"green\"], size=10)\n",
    "x"
   ]
  },
  {
   "cell_type": "markdown",
   "metadata": {},
   "source": [
    "\n",
    "### Plot the choices\n",
    "***\n",
    "\n",
    "A visual representation of the selections made by the choice function. "
   ]
  },
  {
   "cell_type": "code",
   "execution_count": 301,
   "metadata": {},
   "outputs": [
    {
     "data": {
      "text/plain": [
       "<AxesSubplot:title={'center':'No. of times colours selected'}, ylabel='Count'>"
      ]
     },
     "execution_count": 301,
     "metadata": {},
     "output_type": "execute_result"
    },
    {
     "data": {
      "image/png": "[encoded data removed]",
      "text/plain": [
       "<Figure size 432x288 with 1 Axes>"
      ]
     },
     "metadata": {
      "needs_background": "light"
     },
     "output_type": "display_data"
    }
   ],
   "source": [
    "# Histogram plot of x.\n",
    "plt.title(\"No. of times colours selected\")\n",
    "sns.histplot(x, bins=8, edgecolor='white')"
   ]
  },
  {
   "cell_type": "markdown",
   "metadata": {},
   "source": [
    "<br>\n",
    "\n",
    "### The `replace` parameter\n",
    "***\n",
    "\n",
    "\n",
    "`replace=True` is the default setting and means that for each random selection all of the original values are included in the array. This is the default setting and can be observed in the example above. \n",
    "\n",
    "`replace=False` after a selection is made, the selected value will not be placed back into the array.\n"
   ]
  },
  {
   "cell_type": "code",
   "execution_count": 302,
   "metadata": {},
   "outputs": [
    {
     "data": {
      "text/plain": [
       "array(['black', 'orange', 'blue', 'green', 'red', 'purple', 'white',\n",
       "       'yellow'], dtype='<U6')"
      ]
     },
     "execution_count": 302,
     "metadata": {},
     "output_type": "execute_result"
    }
   ],
   "source": [
    "# Array of colours.\n",
    "colours = [\"yellow\", \"red\", \"blue\", \"green\", \"purple\", \"black\", \"orange\", \"white\"]\n",
    "\n",
    "# Replace=False. \n",
    "y = rng.choice(colours, size=[8], replace=False)\n",
    "y"
   ]
  },
  {
   "cell_type": "markdown",
   "metadata": {},
   "source": [
    "<br>\n",
    "\n",
    "### Plot the choices\n",
    "***\n",
    "\n",
    "As can be seen below, each value can only be chosen once as it is removed from the array after its selection. "
   ]
  },
  {
   "cell_type": "code",
   "execution_count": 303,
   "metadata": {},
   "outputs": [
    {
     "data": {
      "text/plain": [
       "<AxesSubplot:title={'center':'No. of times colours selected'}, ylabel='Count'>"
      ]
     },
     "execution_count": 303,
     "metadata": {},
     "output_type": "execute_result"
    },
    {
     "data": {
      "image/png": "[encoded data removed]",
      "text/plain": [
       "<Figure size 432x432 with 1 Axes>"
      ]
     },
     "metadata": {
      "needs_background": "light"
     },
     "output_type": "display_data"
    }
   ],
   "source": [
    "# Increase plot size. \n",
    "plt.rcParams['figure.figsize'] = [6, 6]\n",
    "\n",
    "# Plot y on histogram. \n",
    "plt.title(\"No. of times colours selected\")\n",
    "sns.histplot(y, bins=8, edgecolor=\"black\")"
   ]
  },
  {
   "cell_type": "code",
   "execution_count": 304,
   "metadata": {},
   "outputs": [
    {
     "data": {
      "text/plain": [
       "array([3])"
      ]
     },
     "execution_count": 304,
     "metadata": {},
     "output_type": "execute_result"
    }
   ],
   "source": [
    "# Randomly selecting a single item from array.\n",
    "rng.choice([1, 2, 3, 4, 5], size=1)"
   ]
  },
  {
   "cell_type": "markdown",
   "metadata": {},
   "source": [
    "## The `p` parameter\n",
    "***"
   ]
  },
  {
   "cell_type": "markdown",
   "metadata": {},
   "source": [
    "The `p` parameter allows the specification of probability of an item to be selected from the array. If the `p` parameter is not specified, the probability of selection is the same for each array item. That is, there is a uniform distribution of the data. The following code will show how the `p` parameter can be used to generate a non-uniform distribution sample. "
   ]
  },
  {
   "cell_type": "code",
   "execution_count": 305,
   "metadata": {},
   "outputs": [
    {
     "data": {
      "text/plain": [
       "array(['red', 'yellow', 'yellow', 'red', 'red', 'red', 'yellow', 'red',\n",
       "       'yellow', 'yellow', 'yellow', 'red', 'yellow', 'red', 'red', 'red',\n",
       "       'red', 'red', 'yellow', 'red'], dtype='<U6')"
      ]
     },
     "execution_count": 305,
     "metadata": {},
     "output_type": "execute_result"
    }
   ],
   "source": [
    "# Set the p parameter.\n",
    "p = rng.choice(colours[0:2], size=20, p=[0.2, 0.8])\n",
    "p"
   ]
  },
  {
   "cell_type": "code",
   "execution_count": 306,
   "metadata": {},
   "outputs": [
    {
     "data": {
      "text/plain": [
       "{'red': 12, 'yellow': 8}"
      ]
     },
     "execution_count": 306,
     "metadata": {},
     "output_type": "execute_result"
    }
   ],
   "source": [
    "# Code source: https://stackoverflow.com/questions/28663856/how-to-count-the-occurrence-of-certain-item-in-an-ndarray\n",
    "\n",
    "# Count the occurances of each colour in array. \n",
    "unique, counts = np.unique(p, return_counts=True)\n",
    "\n",
    "# Place in dict object.\n",
    "dict(zip(unique, counts))\n"
   ]
  },
  {
   "cell_type": "code",
   "execution_count": 307,
   "metadata": {},
   "outputs": [
    {
     "data": {
      "text/plain": [
       "<seaborn.axisgrid.FacetGrid at 0x132494fd0>"
      ]
     },
     "execution_count": 307,
     "metadata": {},
     "output_type": "execute_result"
    },
    {
     "data": {
      "image/png": "[encoded data removed]",
      "text/plain": [
       "<Figure size 360x360 with 1 Axes>"
      ]
     },
     "metadata": {
      "needs_background": "light"
     },
     "output_type": "display_data"
    }
   ],
   "source": [
    "# Plot the results.\n",
    "sns.displot(p, color=\"pink\")"
   ]
  },
  {
   "cell_type": "markdown",
   "metadata": {},
   "source": [
    "<br>\n",
    "\n",
    "#### Difference between integers and choice functions:\n",
    "***\n",
    "\n",
    "While the random.Generator.integers and random.Generator.choice both choose select values (integers from a range, and choice from a given array), the significant differences bring that choice allows:\n",
    "\n",
    "- the specification as to whether a replacement value placed in the array or not.\n",
    "- the specificaton of probability of an item being selected.(uniform distribution is default) [2]"
   ]
  },
  {
   "cell_type": "markdown",
   "metadata": {},
   "source": [
    "<br>\n",
    "<a id=\"Bytes\"></a>\n",
    "\n",
    "## `bytes()`\n",
    "\n",
    "[Documentation](https://numpy.org/doc/stable/reference/random/generated/numpy.random.Generator.bytes.html#numpy.random.Generator.bytes)\n",
    "\n",
    "Generates random bytes. \n",
    "***"
   ]
  },
  {
   "cell_type": "markdown",
   "metadata": {},
   "source": [
    "&nbsp;&nbsp;&nbsp;&nbsp;&nbsp;&nbsp;&nbsp;&nbsp;`random.Generator.bytes(length)`\n",
    "\n"
   ]
  },
  {
   "cell_type": "markdown",
   "metadata": {},
   "source": [
    "This function simply returns a string of random bytes with the size of the return specified by the length parameter."
   ]
  },
  {
   "cell_type": "code",
   "execution_count": 308,
   "metadata": {},
   "outputs": [
    {
     "data": {
      "text/plain": [
       "b'\\x9ex\\x89\\xa4\\x8e\\xa5\\x85~\\xaa.'"
      ]
     },
     "execution_count": 308,
     "metadata": {},
     "output_type": "execute_result"
    }
   ],
   "source": [
    "# Generate random bytes.\n",
    "x = rng.bytes(10)\n",
    "x"
   ]
  },
  {
   "cell_type": "code",
   "execution_count": 309,
   "metadata": {},
   "outputs": [
    {
     "data": {
      "text/plain": [
       "bytes"
      ]
     },
     "execution_count": 309,
     "metadata": {},
     "output_type": "execute_result"
    }
   ],
   "source": [
    "# Check data type of x.\n",
    "type(x)"
   ]
  },
  {
   "cell_type": "markdown",
   "metadata": {},
   "source": [
    "<br>\n",
    "\n",
    "### References:\n",
    "***\n",
    "\n",
    "[1] https://en.wikipedia.org/wiki/Discrete_uniform_distribution<br>\n",
    "[2] https://stackoverflow.com/questions/55772716/how-is-numpy-choice-different-from-numpy-randint\n",
    "\n",
    "***"
   ]
  },
  {
   "cell_type": "markdown",
   "metadata": {},
   "source": [
    "<br>\n",
    "\n",
    "<a id=\"Permutations\"></a>\n",
    "\n",
    "# <center>3. Permutations </center>\n",
    "\n",
    "#### <center><i>A permutation is the number of ways a sequence can be arranged where ordering is significant. It can be compared to combinations, on the contrary, where ordering is insignificant.</i></center>\n"
   ]
  },
  {
   "cell_type": "markdown",
   "metadata": {},
   "source": [
    "<br>\n",
    "<a id=\"Shuffle\"></a>\n",
    "<center><img src=\"Images/card_shuffling_transparent.gif\" alt=\"shuffle\" style=\"width:300px\"></center>\n",
    "\n",
    "# `shuffle()`\n",
    "[Documentation](https://numpy.org/doc/stable/reference/random/generated/numpy.random.Generator.shuffle.html#numpy.random.Generator.shuffle)\n",
    "\n",
    "Randomly shuffles items of a given array in-place.\n",
    "\n",
    "***"
   ]
  },
  {
   "cell_type": "markdown",
   "metadata": {},
   "source": [
    "&nbsp;&nbsp;&nbsp;&nbsp;&nbsp;&nbsp;&nbsp;&nbsp;&nbsp;`random.Generator.shuffle(x, axis=0)`"
   ]
  },
  {
   "cell_type": "markdown",
   "metadata": {},
   "source": [
    "Shuffling is uselful in applications where it is important to avoid bias. Machine learning often uses shuffling in its operations. "
   ]
  },
  {
   "cell_type": "markdown",
   "metadata": {},
   "source": [
    "<br>\n",
    "\n",
    "### Shuffle 1-dimensional array\n",
    "***"
   ]
  },
  {
   "cell_type": "code",
   "execution_count": 310,
   "metadata": {},
   "outputs": [
    {
     "data": {
      "text/plain": [
       "array([ 0,  1,  2,  3,  4,  5,  6,  7,  8,  9, 10])"
      ]
     },
     "execution_count": 310,
     "metadata": {},
     "output_type": "execute_result"
    }
   ],
   "source": [
    "# Create a numpy array.\n",
    "arr = np.arange(11)\n",
    "arr"
   ]
  },
  {
   "cell_type": "code",
   "execution_count": 311,
   "metadata": {},
   "outputs": [
    {
     "data": {
      "text/plain": [
       "array([ 2,  3,  8,  5,  1,  4, 10,  0,  9,  6,  7])"
      ]
     },
     "execution_count": 311,
     "metadata": {},
     "output_type": "execute_result"
    }
   ],
   "source": [
    "# Shuffle the array. \n",
    "rng.shuffle(arr)\n",
    "arr"
   ]
  },
  {
   "cell_type": "markdown",
   "metadata": {},
   "source": [
    "<br>\n",
    "\n",
    "### Shuffle 2-dimensional array.\n",
    "***"
   ]
  },
  {
   "cell_type": "code",
   "execution_count": 312,
   "metadata": {},
   "outputs": [
    {
     "data": {
      "text/plain": [
       "array([[ 4,  5,  6,  7],\n",
       "       [12, 13, 14, 15],\n",
       "       [ 8,  9, 10, 11],\n",
       "       [ 0,  1,  2,  3]])"
      ]
     },
     "execution_count": 312,
     "metadata": {},
     "output_type": "execute_result"
    }
   ],
   "source": [
    "# Generate 4 numpy arrays.\n",
    "arr = np.arange(16).reshape((4, 4))\n",
    "\n",
    "# Shuffle arrays. (Default axis = 0 & rearranges the rows)\n",
    "rng.shuffle(arr)\n",
    "arr"
   ]
  },
  {
   "cell_type": "markdown",
   "metadata": {},
   "source": [
    "<br>\n",
    "\n",
    "### `axis` parameter\n",
    "***"
   ]
  },
  {
   "cell_type": "markdown",
   "metadata": {},
   "source": [
    "The axis default is 0. The following example illustrates the outcome when the axis is set to 1. "
   ]
  },
  {
   "cell_type": "code",
   "execution_count": 313,
   "metadata": {},
   "outputs": [
    {
     "data": {
      "text/plain": [
       "array([[ 2,  6,  4,  1,  0,  5,  7,  3],\n",
       "       [10, 14, 12,  9,  8, 13, 15, 11],\n",
       "       [18, 22, 20, 17, 16, 21, 23, 19],\n",
       "       [26, 30, 28, 25, 24, 29, 31, 27],\n",
       "       [34, 38, 36, 33, 32, 37, 39, 35],\n",
       "       [42, 46, 44, 41, 40, 45, 47, 43],\n",
       "       [50, 54, 52, 49, 48, 53, 55, 51],\n",
       "       [58, 62, 60, 57, 56, 61, 63, 59]])"
      ]
     },
     "execution_count": 313,
     "metadata": {},
     "output_type": "execute_result"
    }
   ],
   "source": [
    "# Generate multiple arrays.\n",
    "arr = np.arange(64).reshape(8, 8)\n",
    "\n",
    "# Shuffle with parameter axis=1(rearranges the columns). \n",
    "rng.shuffle(arr, axis=1)\n",
    "arr"
   ]
  },
  {
   "cell_type": "code",
   "execution_count": 314,
   "metadata": {},
   "outputs": [
    {
     "data": {
      "text/plain": [
       "array([[[1, 0],\n",
       "        [3, 2]],\n",
       "\n",
       "       [[5, 4],\n",
       "        [7, 6]]])"
      ]
     },
     "execution_count": 314,
     "metadata": {},
     "output_type": "execute_result"
    }
   ],
   "source": [
    "# Shuffle 3-dimensional array. \n",
    "arr = np.arange(8).reshape(2, 2, 2)\n",
    "rng.shuffle(arr, axis=2)\n",
    "arr"
   ]
  },
  {
   "cell_type": "markdown",
   "metadata": {},
   "source": [
    "<br>\n",
    "<a id=\"Permutation\"></a>\n",
    "\n",
    "# `permutation()` \n",
    "\n",
    "[Documentation](https://numpy.org/doc/stable/reference/random/generated/numpy.random.Generator.permutation.html#numpy.random.Generator.permutation)<br>\n",
    "\n",
    "\n",
    "Randomly permutates items of a array, leaving the original array unchanged and storing the permutation in a new variable. \n",
    "\n",
    "***\n"
   ]
  },
  {
   "cell_type": "markdown",
   "metadata": {},
   "source": [
    "&nbsp;&nbsp;&nbsp;&nbsp;&nbsp;&nbsp;&nbsp;&nbsp;&nbsp;&nbsp;`random.Generator.permutation(x, axis=0)`"
   ]
  },
  {
   "cell_type": "markdown",
   "metadata": {},
   "source": [
    "\n",
    "### Pass integer as parameter\n",
    "***"
   ]
  },
  {
   "cell_type": "markdown",
   "metadata": {},
   "source": [
    "When an integer is passed through the function as x, it is treated as arange(x). "
   ]
  },
  {
   "cell_type": "code",
   "execution_count": 315,
   "metadata": {},
   "outputs": [
    {
     "data": {
      "text/plain": [
       "array([ 1, 26, 22, 32, 42, 51, 19, 34, 43, 14,  4,  9, 55, 48, 52, 46, 39,\n",
       "       40, 12, 57,  7, 11, 30,  2, 56, 28, 54, 58,  6, 47, 29, 24, 31, 36,\n",
       "       38, 35, 15, 41,  3, 49, 33, 20, 25, 53, 16, 45, 50, 21,  0, 37,  8,\n",
       "       10, 59, 23, 44,  5, 27, 18, 17, 13])"
      ]
     },
     "execution_count": 315,
     "metadata": {},
     "output_type": "execute_result"
    }
   ],
   "source": [
    "# Permutates range from 0(inclusive) - 60(exclusive).\n",
    "rng.permutation(60)"
   ]
  },
  {
   "cell_type": "markdown",
   "metadata": {},
   "source": [
    "<br>\n",
    "### Pass array as parameter\n",
    "***"
   ]
  },
  {
   "cell_type": "code",
   "execution_count": 316,
   "metadata": {},
   "outputs": [
    {
     "data": {
      "text/plain": [
       "array([ 3, 38, 16, 40, 53, 51, 14,  6,  2,  5, 47, 35, 48, 58, 27,  8, 44,\n",
       "       21, 23, 36, 20, 10, 17, 13, 12, 28,  7, 22, 52, 11, 34, 26, 32, 59,\n",
       "       49, 37, 30, 39, 15, 55, 31, 57,  9, 24, 29, 46, 18,  1,  0,  4, 19,\n",
       "       41, 50, 43, 42, 33, 25, 54, 45, 56])"
      ]
     },
     "execution_count": 316,
     "metadata": {},
     "output_type": "execute_result"
    }
   ],
   "source": [
    "# Generate numpy array. \n",
    "arr = np.arange(60)\n",
    "\n",
    "# Makes a copy of array and permutates it. \n",
    "rng.permutation(arr)"
   ]
  },
  {
   "cell_type": "markdown",
   "metadata": {},
   "source": [
    "<br>\n",
    "\n",
    "### Axis parameter\n",
    "***"
   ]
  },
  {
   "cell_type": "markdown",
   "metadata": {},
   "source": [
    "Like the shuffle function, the permutate function can be set to permutate along a given axis. The default is 0."
   ]
  },
  {
   "cell_type": "code",
   "execution_count": 317,
   "metadata": {},
   "outputs": [
    {
     "data": {
      "text/plain": [
       "array([[ 0,  5,  4,  2,  3,  1],\n",
       "       [ 6, 11, 10,  8,  9,  7],\n",
       "       [12, 17, 16, 14, 15, 13],\n",
       "       [18, 23, 22, 20, 21, 19],\n",
       "       [24, 29, 28, 26, 27, 25],\n",
       "       [30, 35, 34, 32, 33, 31],\n",
       "       [36, 41, 40, 38, 39, 37],\n",
       "       [42, 47, 46, 44, 45, 43],\n",
       "       [48, 53, 52, 50, 51, 49],\n",
       "       [54, 59, 58, 56, 57, 55]])"
      ]
     },
     "execution_count": 317,
     "metadata": {},
     "output_type": "execute_result"
    }
   ],
   "source": [
    "# Generate 2-dimensional array.\n",
    "arr = np.arange(60).reshape(10, 6)\n",
    "arr\n",
    "\n",
    "# Axis=1 rearranges the columns. \n",
    "rng.permutation(arr, axis=1) # Note bulk permutation, slices are shuffled together, not independently. \n"
   ]
  },
  {
   "cell_type": "markdown",
   "metadata": {},
   "source": [
    "<br>\n",
    "<a id=\"Permuted\"></a>\n",
    "\n",
    "# `permuted()`\n",
    "\n",
    "[Documentation](https://numpy.org/doc/stable/reference/random/generated/numpy.random.Generator.permuted.html#numpy.random.Generator.permuted)\n",
    "\n",
    "Randomly permutates an array along a given axis.\n",
    "***"
   ]
  },
  {
   "cell_type": "markdown",
   "metadata": {},
   "source": [
    "&nbsp;&nbsp;&nbsp;&nbsp;&nbsp;&nbsp;&nbsp;&nbsp;&nbsp;&nbsp;`random.Generator.permuted(x, axis=None, out=None)`"
   ]
  },
  {
   "cell_type": "markdown",
   "metadata": {},
   "source": [
    "<br>\n",
    "\n",
    "The shuffle and permuted functions may seems as though they fulfil the same function, however, the difference between the two is that with the permuted function the slices of the array are shuffled independently of each other."
   ]
  },
  {
   "cell_type": "code",
   "execution_count": 318,
   "metadata": {},
   "outputs": [
    {
     "data": {
      "text/plain": [
       "array([1, 2, 3, 4, 5])"
      ]
     },
     "execution_count": 318,
     "metadata": {},
     "output_type": "execute_result"
    }
   ],
   "source": [
    "# Produce permuted sample from array.\n",
    "rng.permuted([1, 2, 3, 4, 5])"
   ]
  },
  {
   "cell_type": "code",
   "execution_count": 319,
   "metadata": {},
   "outputs": [
    {
     "data": {
      "text/plain": [
       "array([[ 0,  1,  2,  3,  4],\n",
       "       [ 5,  6,  7,  8,  9],\n",
       "       [10, 11, 12, 13, 14],\n",
       "       [15, 16, 17, 18, 19],\n",
       "       [20, 21, 22, 23, 24],\n",
       "       [25, 26, 27, 28, 29],\n",
       "       [30, 31, 32, 33, 34],\n",
       "       [35, 36, 37, 38, 39],\n",
       "       [40, 41, 42, 43, 44],\n",
       "       [45, 46, 47, 48, 49]])"
      ]
     },
     "execution_count": 319,
     "metadata": {},
     "output_type": "execute_result"
    }
   ],
   "source": [
    "# Generate multiple arrays.\n",
    "x = np.arange(50).reshape(10,5)\n",
    "x"
   ]
  },
  {
   "cell_type": "markdown",
   "metadata": {},
   "source": [
    "<br>\n",
    "\n",
    "### Slices are shuffled independently \n",
    "***\n",
    "\n",
    "Unlike the permutation function, the slices are shuffled independently meaning that values within a slice are also shuffled. "
   ]
  },
  {
   "cell_type": "code",
   "execution_count": 320,
   "metadata": {},
   "outputs": [
    {
     "data": {
      "text/plain": [
       "array([[ 0,  2,  4,  1,  3],\n",
       "       [ 8,  6,  9,  5,  7],\n",
       "       [12, 11, 13, 10, 14],\n",
       "       [15, 17, 16, 18, 19],\n",
       "       [20, 21, 24, 23, 22],\n",
       "       [26, 25, 28, 29, 27],\n",
       "       [31, 30, 33, 32, 34],\n",
       "       [35, 36, 39, 38, 37],\n",
       "       [44, 41, 40, 43, 42],\n",
       "       [45, 46, 49, 48, 47]])"
      ]
     },
     "execution_count": 320,
     "metadata": {},
     "output_type": "execute_result"
    }
   ],
   "source": [
    "# Permute array along axis 1. \n",
    "rng.permuted(x, axis=1, out=None)"
   ]
  },
  {
   "cell_type": "code",
   "execution_count": 321,
   "metadata": {},
   "outputs": [
    {
     "data": {
      "text/plain": [
       "array([[28, 15, 20, 37, 31],\n",
       "       [42, 13,  6, 41,  5],\n",
       "       [ 0, 43, 24, 35, 38],\n",
       "       [36, 19, 26, 11, 27],\n",
       "       [46, 14, 22, 34, 17],\n",
       "       [30,  4, 47,  7, 25],\n",
       "       [32, 45, 48, 23, 49],\n",
       "       [33, 10, 39, 44, 40],\n",
       "       [ 1, 18,  2, 21, 29],\n",
       "       [12,  3,  9,  8, 16]])"
      ]
     },
     "execution_count": 321,
     "metadata": {},
     "output_type": "execute_result"
    }
   ],
   "source": [
    "rng.permuted(x, axis=None, out=None)"
   ]
  },
  {
   "cell_type": "markdown",
   "metadata": {},
   "source": [
    "<br>\n",
    "\n",
    "### Differences between the shuffle, permutation & permuted functions\n",
    "***"
   ]
  },
  {
   "cell_type": "markdown",
   "metadata": {},
   "source": [
    "Regarding memory usage, the shuffle function uses in-place memory and the permutation function returns a copy of the array (out-of-place memory). With the permuted function, on the other-hand, whether the return be in-place or out-of-place can be specified with the `out` parameter.[1]\n",
    "\n",
    "Both the shuffle and permutation functions deals with slices of a given axis as if they are 1-dimensional arrays, while the purmuted function treats each slice independent of the other. I.e, Where axis=1 the columns will be shuffled. the permutation function will return the shuffled columns while keeping the same values in column whereas, the permuted function will also shuffle the items within the column. "
   ]
  },
  {
   "cell_type": "markdown",
   "metadata": {},
   "source": [
    "<br>\n",
    "\n",
    "#### References:\n",
    "\n",
    "[1] https://numpy.org/doc/stable/reference/random/generator.html\n"
   ]
  },
  {
   "cell_type": "markdown",
   "metadata": {},
   "source": [
    "<br>\n",
    "<a id=\"Distr\"></a>\n",
    "\n",
    "\n",
    "# <center>4. Distributions</center>\n",
    "***\n"
   ]
  },
  {
   "cell_type": "markdown",
   "metadata": {},
   "source": [
    "\n",
    "## Continuous Distributions\n",
    "\n",
    "### Normal, uniform\n",
    "***"
   ]
  },
  {
   "cell_type": "markdown",
   "metadata": {},
   "source": [
    "<br>\n",
    "<a id=\"Normal\"></a>\n",
    "\n",
    "## `normal()` \n",
    "\n",
    "[Documentation](https://numpy.org/doc/stable/reference/random/generated/numpy.random.Generator.normal.html#numpy.random.Generator.normal)\n",
    "\n",
    "Generate random samples from the Gaussian normal distribution.\n",
    "***\n"
   ]
  },
  {
   "cell_type": "markdown",
   "metadata": {},
   "source": [
    "&nbsp;&nbsp;&nbsp;&nbsp;&nbsp;&nbsp;&nbsp;&nbsp;&nbsp;`random.Generator.normal(loc=0.0, scale=1.0, size=None)`"
   ]
  },
  {
   "cell_type": "markdown",
   "metadata": {},
   "source": [
    "The probability distribution function of the normal distribution (or Gaussian distribution) is also known as the bell curve due to its distinctive bell-like shape. Normal distribution is a phenomenon that often found in nature and is used frequently in probability problems. It is a symmetrical representation of data which focuses on the mean and standard deviation, in which most of the values lie, while the remaining values taper off gradually. [1]\n",
    "\n",
    "<br>"
   ]
  },
  {
   "cell_type": "markdown",
   "metadata": {},
   "source": [
    "[Image source](https://www.google.com/search?q=normal+distribution&tbm=isch&source=iu&ictx=1&fir=PdECETJk-Nz0eM%252CNTVbhD7-dDkldM%252C_%253BtfalmXQH_1OaOM%252CIHBRA5u2SVyimM%252C_&vet=1&usg=AI4_-kQ6iJynd96JVmTgWJWK3JCHcMzbRg&sa=X&ved=2ahUKEwiIzbSHo7v0AhURYcAKHfCHDzgQ_h16BAhcEAE#imgrc=tfalmXQH_1OaOM)\n",
    "\n",
    "<center><img src=\"Images/gaussian.png\" alt=\"gaussian\" style=\"width:500px\"></center>\n",
    "\n",
    "<br>"
   ]
  },
  {
   "cell_type": "markdown",
   "metadata": {},
   "source": [
    "The image above depicts the normal distribution, note the bell curve characteristic of the Gaussian ot normal distribution. The line in the middle of the curve represents the mean, while each line to the right or left of the mean represents a standard deviation. \n",
    "\n",
    "Paraphrase this! \"Standard deviation is the measure of dispersion of a set of data from its mean. It measures the absolute variability of a distribution; the higher the dispersion or variability, the greater is the standard deviation and greater will be the magnitude of the deviation of the value from their mean.\"[https://economictimes.indiatimes.com/definition/standard-deviation]\n",
    "\n",
    "One standard deviation from the mean represents 68.27 percent of the data. \n",
    "\n",
    "95 percent of the data is within two standard deviations from the mean. [2]\n"
   ]
  },
  {
   "cell_type": "markdown",
   "metadata": {},
   "source": [
    "<br>\n",
    "\n",
    "#### Formula\n",
    "***"
   ]
  },
  {
   "cell_type": "markdown",
   "metadata": {},
   "source": [
    "<center><img src=\"Images/guassian_formula.png\" alt=\"dice\" style=\"width:500px\"><center>\n",
    "\n",
    "<br>\n",
    "\n",
    "Reference this!"
   ]
  },
  {
   "cell_type": "markdown",
   "metadata": {},
   "source": [
    "#### Parameters\n",
    "***"
   ]
  },
  {
   "cell_type": "markdown",
   "metadata": {},
   "source": [
    "The `loc` parameter specifies the mean of the data, the default value is 0 if no value is given.\n",
    "\n",
    "The `scale` parameter specifies the standard deviation of the normal distribution. \n",
    "\n",
    "While the `size` parameter specifies how many data points will be generated. "
   ]
  },
  {
   "cell_type": "markdown",
   "metadata": {},
   "source": [
    "<br>\n",
    "\n",
    "#### Generate normal samples\n",
    "***"
   ]
  },
  {
   "cell_type": "code",
   "execution_count": 322,
   "metadata": {},
   "outputs": [
    {
     "data": {
      "text/plain": [
       "0.08655323186446906"
      ]
     },
     "execution_count": 322,
     "metadata": {},
     "output_type": "execute_result"
    }
   ],
   "source": [
    "# Generate a single normal value with default parameter values.\n",
    "rng.uniform()"
   ]
  },
  {
   "cell_type": "code",
   "execution_count": 323,
   "metadata": {},
   "outputs": [],
   "source": [
    "# Generate 5000 normal values with loc & size settings.\n",
    "a = rng.normal(loc=50, size=10000)"
   ]
  },
  {
   "cell_type": "code",
   "execution_count": 324,
   "metadata": {},
   "outputs": [
    {
     "data": {
      "text/plain": [
       "49.99203400891793"
      ]
     },
     "execution_count": 324,
     "metadata": {},
     "output_type": "execute_result"
    }
   ],
   "source": [
    "# Check the mean.\n",
    "a.mean()"
   ]
  },
  {
   "cell_type": "code",
   "execution_count": 325,
   "metadata": {},
   "outputs": [
    {
     "data": {
      "text/plain": [
       "0.9941134162342693"
      ]
     },
     "execution_count": 325,
     "metadata": {},
     "output_type": "execute_result"
    }
   ],
   "source": [
    "# Check the standard deviation. \n",
    "a.std()"
   ]
  },
  {
   "cell_type": "markdown",
   "metadata": {},
   "source": [
    "#### The default standard deviation for the normal function is set to around 1 which represents approximately 68 percent of the data. "
   ]
  },
  {
   "cell_type": "code",
   "execution_count": 326,
   "metadata": {},
   "outputs": [
    {
     "data": {
      "text/plain": [
       "<AxesSubplot:ylabel='Count'>"
      ]
     },
     "execution_count": 326,
     "metadata": {},
     "output_type": "execute_result"
    },
    {
     "data": {
      "image/png": "[encoded data removed]",
      "text/plain": [
       "<Figure size 432x432 with 1 Axes>"
      ]
     },
     "metadata": {
      "needs_background": "light"
     },
     "output_type": "display_data"
    }
   ],
   "source": [
    "# Plot data on histogram with kernal density estimation. \n",
    "sns.histplot(a, kde=True)"
   ]
  },
  {
   "cell_type": "markdown",
   "metadata": {},
   "source": [
    "<br>\n",
    "\n",
    "#### Specify scale\n",
    "***"
   ]
  },
  {
   "cell_type": "markdown",
   "metadata": {},
   "source": [
    "#### <i> Example: IQ Tests.</i> \n",
    "\n",
    "[3]\n",
    "\n",
    "Assume the mean of IQ results are 100. Set the `loc` parameter to the mean IQ of 100.<br>\n",
    "Assume the standard deviation is 15: Set `scale` to 15. <br>\n",
    "The `size` in this case are the subjects(people), this is set to 1,000,000."
   ]
  },
  {
   "cell_type": "code",
   "execution_count": 327,
   "metadata": {},
   "outputs": [],
   "source": [
    "# Specify mean & standard deviation.\n",
    "m = 100\n",
    "s = 15\n",
    "\n",
    "# Produce 1,000,000 normally distributed values.\n",
    "x = rng.normal(loc=m, scale=s, size=1000000)"
   ]
  },
  {
   "cell_type": "code",
   "execution_count": 328,
   "metadata": {},
   "outputs": [
    {
     "data": {
      "text/plain": [
       "1000000"
      ]
     },
     "execution_count": 328,
     "metadata": {},
     "output_type": "execute_result"
    }
   ],
   "source": [
    "# Check the size of output array.\n",
    "x.size"
   ]
  },
  {
   "cell_type": "code",
   "execution_count": 329,
   "metadata": {},
   "outputs": [
    {
     "data": {
      "text/plain": [
       "14.979202474034036"
      ]
     },
     "execution_count": 329,
     "metadata": {},
     "output_type": "execute_result"
    }
   ],
   "source": [
    "# Check standard deviation. \n",
    "x.std()"
   ]
  },
  {
   "cell_type": "code",
   "execution_count": 330,
   "metadata": {},
   "outputs": [
    {
     "data": {
      "text/plain": [
       "<seaborn.axisgrid.FacetGrid at 0x12d65d4f0>"
      ]
     },
     "execution_count": 330,
     "metadata": {},
     "output_type": "execute_result"
    },
    {
     "data": {
      "image/png": "[encoded data removed]",
      "text/plain": [
       "<Figure size 360x360 with 1 Axes>"
      ]
     },
     "metadata": {
      "needs_background": "light"
     },
     "output_type": "display_data"
    }
   ],
   "source": [
    "# Plot the data with kernal density estimation. \n",
    "sns.displot(x, kde=True, bins=30)"
   ]
  },
  {
   "cell_type": "code",
   "execution_count": 331,
   "metadata": {},
   "outputs": [
    {
     "data": {
      "text/plain": [
       "175.60651203956832"
      ]
     },
     "execution_count": 331,
     "metadata": {},
     "output_type": "execute_result"
    }
   ],
   "source": [
    "# Check highest value.\n",
    "np.amax(x)"
   ]
  },
  {
   "cell_type": "code",
   "execution_count": 332,
   "metadata": {},
   "outputs": [
    {
     "data": {
      "text/plain": [
       "27.804421860332667"
      ]
     },
     "execution_count": 332,
     "metadata": {},
     "output_type": "execute_result"
    }
   ],
   "source": [
    "# Check lowest value. \n",
    "np.amin(x)"
   ]
  },
  {
   "cell_type": "markdown",
   "metadata": {},
   "source": [
    "### Subplots with different scale values\n",
    "***"
   ]
  },
  {
   "cell_type": "code",
   "execution_count": 333,
   "metadata": {},
   "outputs": [],
   "source": [
    "# Create normal arrays specifying different scale values.\n",
    "a = rng.normal(loc=0, scale=3.0, size=1000)\n",
    "b = rng.normal(loc=0, scale=1.0, size=1000)"
   ]
  },
  {
   "cell_type": "code",
   "execution_count": 334,
   "metadata": {},
   "outputs": [
    {
     "data": {
      "image/png": "[encoded data removed]",
      "text/plain": [
       "<Figure size 432x432 with 1 Axes>"
      ]
     },
     "metadata": {
      "needs_background": "light"
     },
     "output_type": "display_data"
    }
   ],
   "source": [
    "# Create a pyplot figure. \n",
    "fig, ax = plt.subplots()\n",
    "\n",
    "# Plot values with histogram. \n",
    "ax.hist(a, alpha=0.5, density=True)   # alpha parameter makes bins transparent.\n",
    "ax.hist(b, alpha=0.5, density=True);  # density=true returns a probability density."
   ]
  },
  {
   "cell_type": "markdown",
   "metadata": {},
   "source": [
    "#### As seen in the plot scale affects the spread of the data. \n",
    "\n",
    "- \"a\" array (BLUE) has a bigger spread. 99 percent of the data lies beyween -9 and 9 (3 standard deviations).\n",
    "\n",
    "- \"b\" array (ORANGE) has a smaller spread. 99 percent of the data lies between -3 and 3 (also 3 standard deviations)."
   ]
  },
  {
   "cell_type": "markdown",
   "metadata": {},
   "source": [
    "<br>\n",
    "<a id=\"Uniform\"></a>\n",
    "\n",
    "## `uniform()` \n",
    "\n",
    "[Documentation](https://numpy.org/doc/stable/reference/random/generated/numpy.random.Generator.normal.html#numpy.random.Generator.uniform)\n",
    "\n",
    "Generate random samples from the uniform distribution. \n",
    "\n",
    "***"
   ]
  },
  {
   "cell_type": "markdown",
   "metadata": {},
   "source": [
    "&nbsp;&nbsp;&nbsp;&nbsp;&nbsp;&nbsp;&nbsp;&nbsp;&nbsp;&nbsp;`random.Generator.uniform(low=0.0, high=1.0, size=None)`"
   ]
  },
  {
   "cell_type": "markdown",
   "metadata": {},
   "source": [
    "Samples returned from this function \"are uniformly distributed over the half-open interval [low, high)\".[4] That is, that any value within the given range has equal probability of being selected. The low parameter value is included, however, the high value is excluded, denoted by the closed bracket before the low parameter and an open round bracket after the high parameter. That is, values very close to the upper bound can be returned but the high value will not be returned.\n",
    "\n",
    "As the values are within a range it is said to be a continuous distribution. \n",
    "When dealing with discrete values (i.e., arrays of values), Numpys's integers function would be suitable.\n",
    "\n",
    "Uniform distribution is used for calculating possibilities. This distributions is also known as rectangular distribution owing to its rectangular shape, see figure below."
   ]
  },
  {
   "cell_type": "markdown",
   "metadata": {},
   "source": [
    "<br>\n",
    "\n",
    "#### Continuous uniform distribution function\n",
    "***"
   ]
  },
  {
   "cell_type": "markdown",
   "metadata": {},
   "source": [
    "<center><img src=\"Images/Uniform_Distribution.svg\" alt=\"uniform distribution\" style=\"width:500px\"><center>[5]\n",
    "\n",
    "<br>"
   ]
  },
  {
   "cell_type": "code",
   "execution_count": 335,
   "metadata": {},
   "outputs": [
    {
     "data": {
      "text/plain": [
       "0.7807379075973154"
      ]
     },
     "execution_count": 335,
     "metadata": {},
     "output_type": "execute_result"
    }
   ],
   "source": [
    "# Generate single number using default parameters.\n",
    "rng.uniform() # The default low value is 0, while the high value is 1. "
   ]
  },
  {
   "cell_type": "code",
   "execution_count": 336,
   "metadata": {},
   "outputs": [
    {
     "data": {
      "text/plain": [
       "array([0.24391387, 0.99187376, 0.7891139 , 0.35331233, 0.10335344,\n",
       "       0.58102587, 0.28429775, 0.92974366, 0.56569098, 0.53479728,\n",
       "       0.5161733 , 0.22371929, 0.61852185, 0.59957081, 0.99029115,\n",
       "       0.55993696, 0.96200759, 0.6987523 , 0.99825962, 0.52573655,\n",
       "       0.09024357, 0.10253482, 0.24623435, 0.70452098, 0.10692229,\n",
       "       0.21433134, 0.9026523 , 0.12094584, 0.77253669, 0.33806114,\n",
       "       0.58468307, 0.34883651, 0.30014554, 0.88034926, 0.87109442,\n",
       "       0.22290195, 0.77075369, 0.01068921, 0.48220248, 0.88747136,\n",
       "       0.15336565, 0.70793293, 0.05172696, 0.95118761, 0.62366734,\n",
       "       0.38626239, 0.94663576, 0.74446383, 0.28858196, 0.55358619,\n",
       "       0.17280494, 0.52991398, 0.70876242, 0.54620284, 0.1241104 ,\n",
       "       0.90619128, 0.21827776, 0.5948997 , 0.72211086, 0.05460384,\n",
       "       0.12662166, 0.55663081, 0.24290954, 0.01748333, 0.1723834 ,\n",
       "       0.7574678 , 0.21339594, 0.06208425, 0.86839919, 0.87158766,\n",
       "       0.95127001, 0.82489013, 0.83174047, 0.12539266, 0.02779118,\n",
       "       0.74763574, 0.97271329, 0.25814273, 0.29741412, 0.02458094,\n",
       "       0.92880309, 0.78742844, 0.49113584, 0.33392076, 0.99843642,\n",
       "       0.0306927 , 0.72267914, 0.28055211, 0.80449614, 0.39566666,\n",
       "       0.45913156, 0.38007234, 0.51524619, 0.51016817, 0.08790723,\n",
       "       0.00829137, 0.55412221, 0.8324837 , 0.70532473, 0.89593881])"
      ]
     },
     "execution_count": 336,
     "metadata": {},
     "output_type": "execute_result"
    }
   ],
   "source": [
    "# Generate 100 numbers within default range.\n",
    "rng.uniform(size=100)"
   ]
  },
  {
   "cell_type": "markdown",
   "metadata": {},
   "source": [
    "#### Note how the high value is excluded."
   ]
  },
  {
   "cell_type": "code",
   "execution_count": 337,
   "metadata": {},
   "outputs": [
    {
     "data": {
      "text/plain": [
       "array([26.93004732, 33.63078399, 14.1717268 , ..., 18.85747066,\n",
       "       14.17424324, 17.28143333])"
      ]
     },
     "execution_count": 337,
     "metadata": {},
     "output_type": "execute_result"
    }
   ],
   "source": [
    "# Generate sample specifying range. \n",
    "x = rng.uniform(low=10, high=100, size=10000)\n",
    "x"
   ]
  },
  {
   "cell_type": "code",
   "execution_count": 338,
   "metadata": {},
   "outputs": [
    {
     "data": {
      "text/plain": [
       "<AxesSubplot:ylabel='Count'>"
      ]
     },
     "execution_count": 338,
     "metadata": {},
     "output_type": "execute_result"
    },
    {
     "data": {
      "image/png": "[encoded data removed]",
      "text/plain": [
       "<Figure size 432x432 with 1 Axes>"
      ]
     },
     "metadata": {
      "needs_background": "light"
     },
     "output_type": "display_data"
    }
   ],
   "source": [
    "# Plot results with kernal density estimation. \n",
    "sns.histplot(x, kde=True, bins=10)"
   ]
  },
  {
   "cell_type": "code",
   "execution_count": 339,
   "metadata": {},
   "outputs": [
    {
     "data": {
      "text/plain": [
       "99.99885621138476"
      ]
     },
     "execution_count": 339,
     "metadata": {},
     "output_type": "execute_result"
    }
   ],
   "source": [
    "# Highest value\n",
    "np.amax(x)"
   ]
  },
  {
   "cell_type": "code",
   "execution_count": 340,
   "metadata": {},
   "outputs": [
    {
     "data": {
      "text/plain": [
       "10.008831408625818"
      ]
     },
     "execution_count": 340,
     "metadata": {},
     "output_type": "execute_result"
    }
   ],
   "source": [
    "# Lowest value\n",
    "np.amin(x)"
   ]
  },
  {
   "cell_type": "markdown",
   "metadata": {},
   "source": [
    "<br>\n",
    "\n",
    "#### <i> Example: Deck of cards\n",
    "    \n",
    "<img src=\"Images/deck_cards_uniform.png\" alt=\"card deck\" style=\"width:200px\">\n",
    "\n",
    "***    \n",
    "    \n",
    "- Consider a deck of 52 cards. \n",
    "    \n",
    "- The following code will draw a card from the deck 100,000 times. \n",
    "    \n",
    "- As each card is unique, the probability of pulling any card from the deck is equally likely. \n",
    "    \n",
    "See the results below!"
   ]
  },
  {
   "cell_type": "code",
   "execution_count": 341,
   "metadata": {},
   "outputs": [],
   "source": [
    "# Create uniform distribution.\n",
    "cards = rng.uniform(1, 53, 100000)"
   ]
  },
  {
   "cell_type": "code",
   "execution_count": 342,
   "metadata": {},
   "outputs": [
    {
     "data": {
      "text/plain": [
       "<AxesSubplot:ylabel='Count'>"
      ]
     },
     "execution_count": 342,
     "metadata": {},
     "output_type": "execute_result"
    },
    {
     "data": {
      "image/png": "[encoded data removed]",
      "text/plain": [
       "<Figure size 432x432 with 1 Axes>"
      ]
     },
     "metadata": {
      "needs_background": "light"
     },
     "output_type": "display_data"
    }
   ],
   "source": [
    "# Plot occurances of cards. \n",
    "sns.histplot(cards, bins=52, kde=True)"
   ]
  },
  {
   "cell_type": "markdown",
   "metadata": {},
   "source": [
    "After 100,000 pulls from the deck, we can see that each card was selected a similar number of times. \n",
    "\n",
    "Note: <b>the rectangler shape</b> characteristic of a uniform distribution. \n"
   ]
  },
  {
   "cell_type": "markdown",
   "metadata": {},
   "source": [
    "<br>\n",
    "\n",
    "# Discrete Distributions\n",
    "## Binomial, Multinomial\n",
    "***"
   ]
  },
  {
   "cell_type": "markdown",
   "metadata": {},
   "source": [
    "<br>\n",
    "<a id=\"Binomial\"></a>\n",
    "\n",
    "# `binomial()`\n",
    "[Documentation](https://numpy.org/doc/stable/reference/random/generated/numpy.random.Generator.binomial.html#numpy.random.Generator.binomial)\n",
    "\n",
    "Generate random samples from a binomial distribution. \n",
    "***"
   ]
  },
  {
   "cell_type": "markdown",
   "metadata": {},
   "source": [
    "\"The binomial distribution is a probability distribution that summarizes the likelihood that a value will take one of two independent values [typically 0 and 1] under a given set of parameters or assumptions.\"[6] We assume that for each trial there is just one outcome and further, that the probability of success for each trial is the same. Binomial distribution is a commonly used discrete distribution in statistics. "
   ]
  },
  {
   "cell_type": "markdown",
   "metadata": {},
   "source": [
    "### Formula\n",
    "***"
   ]
  },
  {
   "cell_type": "markdown",
   "metadata": {},
   "source": [
    "<center><img src=\"Images/binomial_dist_formula.png\" alt=\"bonomial formula\" style=\"width:350px\"></center>[7]\n"
   ]
  },
  {
   "cell_type": "markdown",
   "metadata": {},
   "source": [
    "### Parameters\n",
    "\n",
    "There are two non-optional parameters:\n",
    "- `n` must be integer or list of integers\n",
    "- `p` is specifies the probability of success. It must be a value between 0 and 1. "
   ]
  },
  {
   "cell_type": "markdown",
   "metadata": {},
   "source": [
    "### Flip a coin simulation\n",
    "***"
   ]
  },
  {
   "cell_type": "markdown",
   "metadata": {},
   "source": [
    "<center><img src=\"Images/coin_toss.png\" alt=\"coin toss\" style=\"width:150px\"></center>\n"
   ]
  },
  {
   "cell_type": "markdown",
   "metadata": {},
   "source": [
    "The possible outcome `n` is either 0 or 1 (heads or tails) and the probability of it being either heads or tails is 50/50 as specified with `p`."
   ]
  },
  {
   "cell_type": "code",
   "execution_count": 343,
   "metadata": {},
   "outputs": [],
   "source": [
    "# Flip a coin 1,000 times. \n",
    "coin = rng.binomial(n=1, p=0.5, size=1000)"
   ]
  },
  {
   "cell_type": "code",
   "execution_count": 359,
   "metadata": {},
   "outputs": [
    {
     "data": {
      "image/png": "[encoded data removed]",
      "text/plain": [
       "<Figure size 576x432 with 1 Axes>"
      ]
     },
     "metadata": {
      "needs_background": "light"
     },
     "output_type": "display_data"
    }
   ],
   "source": [
    "# Plot results with a count plot. \n",
    "plt.title(\"Flip a Coin\")\n",
    "sns.countplot(x = coin);"
   ]
  },
  {
   "cell_type": "markdown",
   "metadata": {},
   "source": [
    "#### As we can see, each side appeared a similar number of times."
   ]
  },
  {
   "cell_type": "markdown",
   "metadata": {},
   "source": [
    "### Change probability `p`\n",
    "***"
   ]
  },
  {
   "cell_type": "code",
   "execution_count": 345,
   "metadata": {},
   "outputs": [],
   "source": [
    "# Flip a coin 1,000 times. \n",
    "coin = rng.binomial(n=1, p=0.8, size=1000)"
   ]
  },
  {
   "cell_type": "code",
   "execution_count": 360,
   "metadata": {},
   "outputs": [
    {
     "data": {
      "image/png": "[encoded data removed]",
      "text/plain": [
       "<Figure size 576x432 with 1 Axes>"
      ]
     },
     "metadata": {
      "needs_background": "light"
     },
     "output_type": "display_data"
    }
   ],
   "source": [
    "# Create a histogram with coin toss array.\n",
    "plt.title(\"Flip a Coin\")\n",
    "sns.countplot(x = coin);"
   ]
  },
  {
   "cell_type": "markdown",
   "metadata": {},
   "source": [
    "#### The probability of one side of the coin appearing is 20/80."
   ]
  },
  {
   "cell_type": "code",
   "execution_count": 347,
   "metadata": {},
   "outputs": [
    {
     "data": {
      "text/plain": [
       "(array([0, 1]), array([192, 808]))"
      ]
     },
     "execution_count": 347,
     "metadata": {},
     "output_type": "execute_result"
    }
   ],
   "source": [
    "# Check number of times each side occured. \n",
    "faces, counts = np.unique(coin, return_counts=True)\n",
    "faces, counts"
   ]
  },
  {
   "cell_type": "code",
   "execution_count": 348,
   "metadata": {},
   "outputs": [
    {
     "data": {
      "text/plain": [
       "{0: 19.2, 1: 80.8}"
      ]
     },
     "execution_count": 348,
     "metadata": {},
     "output_type": "execute_result"
    }
   ],
   "source": [
    "# View the percentages of occurances of heads vs tails.\n",
    "percent = dict(zip(faces, counts * 100 / len(coin)))\n",
    "percent"
   ]
  },
  {
   "cell_type": "markdown",
   "metadata": {},
   "source": [
    "<br>\n",
    "<a id=\"Multinomial\"></a>\n",
    "\n",
    "# `multinomial()`\n",
    "[Documentation](https://numpy.org/doc/stable/reference/random/generated/numpy.random.Generator.multinomial.html#numpy.random.Generator.multinomial) <br>\n",
    "Generate random samples from a multinomial distribution. \n",
    "***"
   ]
  },
  {
   "cell_type": "markdown",
   "metadata": {},
   "source": [
    "&nbsp;&nbsp;&nbsp;&nbsp;&nbsp;&nbsp;&nbsp;&nbsp;&nbsp;&nbsp;&nbsp;`random.Generator.multinomial(n, pvals, size=None)`\n"
   ]
  },
  {
   "cell_type": "markdown",
   "metadata": {},
   "source": [
    "The multinomial probability distribution is a generalised version of the binomial distribution. However, the possible outcomes can be greater than two."
   ]
  },
  {
   "cell_type": "markdown",
   "metadata": {},
   "source": [
    "## Simulate throwing dice\n",
    "***"
   ]
  },
  {
   "cell_type": "code",
   "execution_count": 366,
   "metadata": {},
   "outputs": [],
   "source": [
    "# Probability of throwing the dice and landing on a given side. \n",
    "p = [1/6]\n",
    "\n",
    "# Number of trials (throws).\n",
    "n = 60"
   ]
  },
  {
   "cell_type": "code",
   "execution_count": 367,
   "metadata": {},
   "outputs": [],
   "source": [
    "# Generate a sample from p & n values, throw 1 dice. \n",
    "count = rng.multinomial(n, pvals=p*6, size=1)"
   ]
  },
  {
   "cell_type": "code",
   "execution_count": 368,
   "metadata": {},
   "outputs": [
    {
     "data": {
      "text/plain": [
       "array([[16,  9, 11,  8,  9,  7]])"
      ]
     },
     "execution_count": 368,
     "metadata": {},
     "output_type": "execute_result"
    }
   ],
   "source": [
    "# Show result.\n",
    "count"
   ]
  },
  {
   "cell_type": "markdown",
   "metadata": {},
   "source": [
    "The first item in the array represents the first face, the second item, the second face etc..."
   ]
  },
  {
   "cell_type": "code",
   "execution_count": 369,
   "metadata": {},
   "outputs": [
    {
     "data": {
      "image/png": "[encoded data removed]",
      "text/plain": [
       "<Figure size 576x432 with 1 Axes>"
      ]
     },
     "metadata": {
      "needs_background": "light"
     },
     "output_type": "display_data"
    }
   ],
   "source": [
    "# Plot results.\n",
    "plt.rcParams[\"figure.figsize\"] = (8,6)\n",
    "fig, ax = plt.subplots()\n",
    "\n",
    "plt.title(\"60 Die Throws w/ 1 die\")\n",
    "plt.xlabel(\"No. of times dice landed on each face\")\n",
    "ax.hist(count, histtype=\"barstacked\");\n",
    "\n",
    "faces = ['1', '2', '3', '4', '5', '6']\n",
    "plt.legend(faces, title=\"Faces\");"
   ]
  },
  {
   "cell_type": "markdown",
   "metadata": {},
   "source": [
    "## The `size` parameter\n",
    "***"
   ]
  },
  {
   "cell_type": "code",
   "execution_count": 370,
   "metadata": {},
   "outputs": [],
   "source": [
    "# Generate a sample from p & n values above, throw 2 dice this time. \n",
    "count = rng.multinomial(n, pvals=p*6, size=2)"
   ]
  },
  {
   "cell_type": "code",
   "execution_count": 371,
   "metadata": {},
   "outputs": [
    {
     "data": {
      "text/plain": [
       "array([[ 9, 12, 10, 11, 10,  8],\n",
       "       [ 7, 13, 13,  8, 10,  9]])"
      ]
     },
     "execution_count": 371,
     "metadata": {},
     "output_type": "execute_result"
    }
   ],
   "source": [
    "# Check the count. \n",
    "count"
   ]
  },
  {
   "cell_type": "markdown",
   "metadata": {},
   "source": [
    "The first row represents the first dice and 60 throws of it. While each item in the row represents how many times the die landed on that face. (The first item represents face one, the second item, face two etc...)\n",
    "\n",
    "The second row represents the second dice and 60 throws of it and how many times the second die landed on each face. "
   ]
  },
  {
   "cell_type": "code",
   "execution_count": 372,
   "metadata": {},
   "outputs": [
    {
     "data": {
      "text/plain": [
       "<matplotlib.legend.Legend at 0x132230b80>"
      ]
     },
     "execution_count": 372,
     "metadata": {},
     "output_type": "execute_result"
    },
    {
     "data": {
      "image/png": "[encoded data removed]",
      "text/plain": [
       "<Figure size 576x432 with 1 Axes>"
      ]
     },
     "metadata": {
      "needs_background": "light"
     },
     "output_type": "display_data"
    }
   ],
   "source": [
    "# Plot results.\n",
    "plt.rcParams[\"figure.figsize\"] = (8,6)\n",
    "fig, ax = plt.subplots()\n",
    "\n",
    "plt.title(\"60 Die Throws w/ 2 die\")\n",
    "plt.xlabel(\"No. of times dice landed on each face\")\n",
    "ax.hist(count, histtype=\"barstacked\");\n",
    "\n",
    "faces = ['1', '2', '3', '4', '5', '6']\n",
    "plt.legend(faces, title=\"Faces\")"
   ]
  },
  {
   "cell_type": "markdown",
   "metadata": {},
   "source": [
    "There are now <b>TWELVE</b> possibilites rather than six.\n",
    "\n",
    "This is because <b>TWO dice</b> are being rolled. \n",
    "\n",
    "That is, there are two opportunities to land on one, two opportunities to land on two, two opportunities to land on three etc..."
   ]
  },
  {
   "cell_type": "markdown",
   "metadata": {},
   "source": [
    "<br>\n",
    "<a id=\"Geometric\"></a>\n",
    "\n",
    "# `geometric()`\n",
    "[Documentation](https://numpy.org/doc/stable/reference/random/generated/numpy.random.geometric.html) <br>\n",
    "Generate random samples . \n",
    "***"
   ]
  },
  {
   "cell_type": "markdown",
   "metadata": {},
   "source": [
    "&nbsp;&nbsp;&nbsp;&nbsp;&nbsp;&nbsp;&nbsp;&nbsp;&nbsp;&nbsp;`random.geometric(p, size=None)`"
   ]
  },
  {
   "cell_type": "markdown",
   "metadata": {},
   "source": [
    "The geometric probability distribution represents the number of trials neccessary for a successful event to occur in a Bernoulli trial.[8] A Bernoulli trial is also known as a binomial trial and as mentioned above, it is a random experiment where only two outcomes are possible, namely, success or failure."
   ]
  },
  {
   "cell_type": "markdown",
   "metadata": {},
   "source": [
    "#### Formula:\n",
    "<center><img src=\"Images/geometric_formula.png\" alt=\"geometric formula\" style=\"width:250px\"></center>\n",
    "\n"
   ]
  },
  {
   "cell_type": "markdown",
   "metadata": {},
   "source": [
    "#### Parameters:\n",
    "***\n",
    "\n",
    "- `p` represents the probability of a successful event.\n",
    "- `size` (<i>k</i>) is the number of trials that must be run in order to achieve success."
   ]
  },
  {
   "cell_type": "markdown",
   "metadata": {},
   "source": [
    "<br>\n",
    "\n",
    "#### Geometric problem example:\n",
    "Source: [The Organic Chemistry Tutor](https://www.youtube.com/watch?v=d5iAWPnrH6w&t=369s)<br>\n",
    "***\n",
    "<img src=\"Images/blue_car.png\" alt=\"car\" style=\"width:150px\">\n",
    "\n",
    "<br>\n",
    "\n",
    "#### Q:  15% of all cars passing along a certain road are blue. What is the probability that the 200th car will be the first blue car that you see passing along this road? \n",
    "\n",
    "<br>"
   ]
  },
  {
   "cell_type": "code",
   "execution_count": 356,
   "metadata": {},
   "outputs": [
    {
     "data": {
      "text/plain": [
       "array([ 6,  6,  6,  5,  6,  7,  1,  6,  1, 14,  9,  7,  5,  5,  2, 16, 25,\n",
       "        3,  7,  2,  7,  3,  8,  6,  2, 21,  5,  2, 25,  8,  2, 10,  2,  1,\n",
       "        8,  3,  9,  9,  1,  1,  3,  9, 13,  8, 25,  2,  1,  9,  8,  3,  2,\n",
       "        5,  9,  9,  3,  2,  4,  3, 26,  4, 20, 13,  9, 12,  8,  7,  1,  1,\n",
       "        9, 11,  3,  1,  1,  1,  7, 10,  8, 16,  1,  4,  4,  6,  7,  4,  6,\n",
       "        3, 11,  5,  6, 15,  5,  5,  1,  5,  2,  4,  4,  1,  4,  8, 25,  9,\n",
       "        4,  2, 19,  3,  2,  3,  3,  7,  5,  3, 10, 25,  2,  2,  1,  5,  5,\n",
       "        1,  1,  3, 19,  9,  1,  2,  4,  7,  8, 14,  1,  7,  5,  1,  6,  1,\n",
       "        1,  8,  5,  4,  1,  4,  5,  9,  6, 24,  6,  2, 10,  6,  9,  1,  4,\n",
       "        1, 11,  1, 16, 24,  9, 11, 11, 11,  5,  9,  6,  1,  1,  1,  8,  1,\n",
       "        5,  6, 14, 13,  1, 12,  1,  2, 11,  4,  3, 20,  5,  3,  1, 14,  6,\n",
       "        6,  4,  1, 10,  4,  4,  5, 10,  4,  1,  3,  9,  3])"
      ]
     },
     "execution_count": 356,
     "metadata": {},
     "output_type": "execute_result"
    }
   ],
   "source": [
    "# Probability of the car being blue.\n",
    "p = 0.15\n",
    "\n",
    "# Number of trials.\n",
    "size = 200\n",
    "\n",
    "# Draw 200 values from the geometric distribution.\n",
    "geo = rng.geometric(p, size)\n",
    "geo"
   ]
  },
  {
   "cell_type": "code",
   "execution_count": 357,
   "metadata": {},
   "outputs": [
    {
     "data": {
      "text/plain": [
       "0.175"
      ]
     },
     "execution_count": 357,
     "metadata": {},
     "output_type": "execute_result"
    }
   ],
   "source": [
    "# Successful trials.\n",
    "(geo == 1).sum() / 200"
   ]
  },
  {
   "cell_type": "markdown",
   "metadata": {},
   "source": [
    "#### Probability of success\n",
    "***\n",
    "The figure returned above is the probability that the 200th car will be blue."
   ]
  },
  {
   "cell_type": "markdown",
   "metadata": {},
   "source": [
    "<br>\n",
    "\n",
    "#### Plot the geometric probability distribution\n",
    "***"
   ]
  },
  {
   "cell_type": "code",
   "execution_count": 358,
   "metadata": {},
   "outputs": [
    {
     "data": {
      "image/png": "[encoded data removed]",
      "text/plain": [
       "<Figure size 576x432 with 1 Axes>"
      ]
     },
     "metadata": {
      "needs_background": "light"
     },
     "output_type": "display_data"
    }
   ],
   "source": [
    "# Plot the data from geometric probability distribution. \n",
    "plot = sns.histplot(geo, kde=True, stat=\"probability\")\n",
    "plot.set(title='Probability that the 200th car is blue', ylabel = 'Probability');"
   ]
  },
  {
   "cell_type": "markdown",
   "metadata": {},
   "source": [
    "<br>\n",
    "\n",
    "#### References:\n",
    "***\n",
    "[0] https://economictimes.indiatimes.com/definition/standard-deviation\n",
    "\n",
    "[1] https://studiousguy.com/real-life-examples-normal-distribution/\n",
    "\n",
    "[2] https://towardsdatascience.com/understanding-the-68-95-99-7-rule-for-a-normal-distribution-b7b7cbf760c2\n",
    "\n",
    "[3] https://mathstat.slu.edu/~may/ExcelCalculus/sec-7-6-NormalDistribution.html\n",
    "\n",
    "[4] https://numpy.org/doc/stable/reference/random/generated/numpy.random.Generator.uniform.html#numpy.random.Generator.uniform\n",
    "\n",
    "[5] https://en.wikipedia.org/wiki/Continuous_uniform_distribution\n",
    "\n",
    "[6] https://www.investopedia.com/terms/b/binomialdistribution.asp\n",
    "\n",
    "[7] https://en.wikipedia.org/wiki/Binomial_distribution\n",
    "\n",
    "[8] https://deepai.org/machine-learning-glossary-and-terms/geometric-distribution\n",
    "***"
   ]
  },
  {
   "cell_type": "markdown",
   "metadata": {},
   "source": [
    "<br>\n",
    "\n",
    "<a id=\"Seeds\"></a>\n",
    "<center><img src=\"Images/seed.png\" alt=\"car\" style=\"width:250px\"></center>\n",
    "\n",
    "# <center>5. Seeds</center>"
   ]
  },
  {
   "cell_type": "markdown",
   "metadata": {},
   "source": [
    "A random seed, also known as a seed state, is a piece of data (usually a number), used to format a pseudo-random number generator. The purpose of a seed is to yield pseudo-random data that can be reproduced. The seed value itself does not need to be random, however, it will be ignored when generating values. The values generated will be processed from a probability distribution conforming to a pseudo-random process. The seed determines the sequence of random number generation, therefore, if the same seed is entered to initialise the generator, the output of the generator will be the same each time. \"Reproducibility is a very important concept that ensures that anyone who re-runs the code gets the exact same outputs.\"[1] Choosing a good random seed is critical in computer security. For instance, consider an encryption key that is generated using pseudo-random methods. If the seed is known one can access the key.[2] "
   ]
  },
  {
   "cell_type": "markdown",
   "metadata": {},
   "source": [
    "<br>\n",
    "\n",
    "### `defaults_rng()`\n",
    "[Documentation](https://numpy.org/doc/stable/reference/random/generator.html)\n",
    "***"
   ]
  },
  {
   "cell_type": "markdown",
   "metadata": {},
   "source": [
    "In the introduction section of this notebook, an instance of the Numpy's default Generator PCG64 was created using the function `numpy.random.defaults_rng()`. This function has one parameter `seed`, which can be an integer value, SeedSequence, BitGenerator, Generator or None. The `default_rng()` initialises the BitGenerator which \"provides a stream of random bits based on different algorithms.[3] If no seed is specified the operating system will refer to a state (usually a number) in memory and use it as the seed each time the function is called. Time is often used to set the seed."
   ]
  },
  {
   "cell_type": "code",
   "execution_count": 440,
   "metadata": {},
   "outputs": [],
   "source": [
    "# Create a generator with bitGenerator PCG64. \n",
    "rng = np.random.default_rng(seed=42)"
   ]
  },
  {
   "cell_type": "code",
   "execution_count": 441,
   "metadata": {},
   "outputs": [
    {
     "data": {
      "text/plain": [
       "Generator(PCG64) at 0x1335A6900"
      ]
     },
     "execution_count": 441,
     "metadata": {},
     "output_type": "execute_result"
    }
   ],
   "source": [
    "# Default generator type.\n",
    "rng"
   ]
  },
  {
   "cell_type": "code",
   "execution_count": 445,
   "metadata": {},
   "outputs": [
    {
     "data": {
      "text/plain": [
       "array([[0.19463871, 0.466721  , 0.04380377, 0.15428949, 0.68304895],\n",
       "       [0.74476216, 0.96750973, 0.32582536, 0.37045971, 0.46955581],\n",
       "       [0.18947136, 0.12992151, 0.47570493, 0.22690935, 0.66981399],\n",
       "       [0.43715192, 0.8326782 , 0.7002651 , 0.31236664, 0.8322598 ],\n",
       "       [0.80476436, 0.38747838, 0.2883281 , 0.6824955 , 0.13975248]])"
      ]
     },
     "execution_count": 445,
     "metadata": {},
     "output_type": "execute_result"
    }
   ],
   "source": [
    "# Create a random sample.\n",
    "rng.random((5, 5))"
   ]
  },
  {
   "cell_type": "markdown",
   "metadata": {},
   "source": [
    "- Because the seed parameter was specified, the items generated will always be the same after re-starting the kernel."
   ]
  },
  {
   "cell_type": "markdown",
   "metadata": {},
   "source": [
    "#### Generate the same numbers\n",
    "***"
   ]
  },
  {
   "cell_type": "code",
   "execution_count": 443,
   "metadata": {},
   "outputs": [
    {
     "data": {
      "text/plain": [
       "array([[0.77395605, 0.43887844, 0.85859792, 0.69736803, 0.09417735],\n",
       "       [0.97562235, 0.7611397 , 0.78606431, 0.12811363, 0.45038594],\n",
       "       [0.37079802, 0.92676499, 0.64386512, 0.82276161, 0.4434142 ],\n",
       "       [0.22723872, 0.55458479, 0.06381726, 0.82763117, 0.6316644 ],\n",
       "       [0.75808774, 0.35452597, 0.97069802, 0.89312112, 0.7783835 ]])"
      ]
     },
     "execution_count": 443,
     "metadata": {},
     "output_type": "execute_result"
    }
   ],
   "source": [
    "rng = np.random.default_rng(seed=42)\n",
    "rng.random((5, 5))"
   ]
  },
  {
   "cell_type": "markdown",
   "metadata": {},
   "source": [
    "<br>\n",
    "\n",
    "## References:\n",
    "***\n",
    "\n",
    "[1] https://medium.com/geekculture/the-story-behind-random-seed-42-in-machine-learning-b838c4ac290a accessed 4.11.21 <br>\n",
    "[2] https://www.bbc.com/news/technology-33839925\n",
    "[3] https://numpy.org/doc/stable/reference/random/bit_generators/generated/numpy.random.BitGenerator.html"
   ]
  },
  {
   "cell_type": "markdown",
   "metadata": {},
   "source": [
    "***\n",
    "\n",
    "## End"
   ]
  }
 ],
 "metadata": {
  "interpreter": {
   "hash": "40d3a090f54c6569ab1632332b64b2c03c39dcf918b08424e98f38b5ae0af88f"
  },
  "kernelspec": {
   "display_name": "Python 3 (ipykernel)",
   "language": "python",
   "name": "python3"
  },
  "language_info": {
   "codemirror_mode": {
    "name": "ipython",
    "version": 3
   },
   "file_extension": ".py",
   "mimetype": "text/x-python",
   "name": "python",
   "nbconvert_exporter": "python",
   "pygments_lexer": "ipython3",
   "version": "3.8.5"
  }
 },
 "nbformat": 4,
 "nbformat_minor": 5
}
